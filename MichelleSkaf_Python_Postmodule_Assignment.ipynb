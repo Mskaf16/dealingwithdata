{
  "nbformat": 4,
  "nbformat_minor": 0,
  "metadata": {
    "colab": {
      "name": "MichelleSkaf_Python_Postmodule_Assignment.ipynb",
      "provenance": []
    },
    "kernelspec": {
      "name": "python3",
      "display_name": "Python 3"
    },
    "language_info": {
      "name": "python"
    }
  },
  "cells": [
    {
      "cell_type": "markdown",
      "metadata": {
        "id": "SYELrez5Dhvv"
      },
      "source": [
        "## Part 1"
      ]
    },
    {
      "cell_type": "code",
      "metadata": {
        "id": "rQtUUydWDpzn"
      },
      "source": [
        "newsapi_key = 'e609db865d2d45f0981b5f5fd984e4aa'"
      ],
      "execution_count": null,
      "outputs": []
    },
    {
      "cell_type": "code",
      "metadata": {
        "id": "iNRKy6QpiWs9"
      },
      "source": [
        "import requests \n",
        "#Library in py "
      ],
      "execution_count": null,
      "outputs": []
    },
    {
      "cell_type": "code",
      "metadata": {
        "colab": {
          "base_uri": "https://localhost:8080/"
        },
        "id": "4Ma-1fEty7br",
        "outputId": "ebf3309a-ed44-4e34-ac35-408e95494ad0"
      },
      "source": [
        "url = url = 'https://newsapi.org/v2/top-headlines?country=us&category=business&apiKey=e609db865d2d45f0981b5f5fd984e4aa'\n",
        "resp = requests.get(url)\n",
        "resp "
      ],
      "execution_count": null,
      "outputs": [
        {
          "output_type": "execute_result",
          "data": {
            "text/plain": [
              "<Response [200]>"
            ]
          },
          "metadata": {
            "tags": []
          },
          "execution_count": 3
        }
      ]
    },
    {
      "cell_type": "code",
      "metadata": {
        "colab": {
          "base_uri": "https://localhost:8080/"
        },
        "id": "892B1DmLzGnj",
        "outputId": "70f46aa9-47a3-4406-a700-ebdc5cb02891"
      },
      "source": [
        "if (resp.status_code == 200): \n",
        "  print(\"Everything as ok:\", resp.status_code)\n",
        "else:\n",
        "  print(\"There was a problem:\", resp.status_code)\n",
        "  "
      ],
      "execution_count": null,
      "outputs": [
        {
          "output_type": "stream",
          "text": [
            "Everything as ok: 200\n"
          ],
          "name": "stdout"
        }
      ]
    },
    {
      "cell_type": "code",
      "metadata": {
        "colab": {
          "base_uri": "https://localhost:8080/",
          "height": 154
        },
        "id": "j3jwsYoTzWlc",
        "outputId": "d6433b90-70f6-488b-d993-a93b3cc11e05"
      },
      "source": [
        "data = resp.text\n",
        "data"
      ],
      "execution_count": null,
      "outputs": [
        {
          "output_type": "execute_result",
          "data": {
            "application/vnd.google.colaboratory.intrinsic+json": {
              "type": "string"
            },
            "text/plain": [
              "'{\"status\":\"ok\",\"totalResults\":70,\"articles\":[{\"source\":{\"id\":\"ars-technica\",\"name\":\"Ars Technica\"},\"author\":\"Jon Brodkin\",\"title\":\"US hits anti-robocall milestone but annoying calls won’t stop any time soon - Ars Technica\",\"description\":\"Large carriers deploy STIR/SHAKEN. Small carriers, old landlines are still problems.\",\"url\":\"https://arstechnica.com/tech-policy/2021/07/us-hits-anti-robocall-milestone-but-annoying-calls-wont-stop-any-time-soon/\",\"urlToImage\":\"https://cdn.arstechnica.net/wp-content/uploads/2021/04/robocalls-are-really-annoying-760x380.jpg\",\"publishedAt\":\"2021-07-02T19:38:58Z\",\"content\":\"32 with 26 posters participating\\\\r\\\\nThe nation\\'s largest phone companies have met a federal deadline to deploy a new anti-robocall technology, but unwanted calls and scams will continue to be an annoyi… [+7916 chars]\"},{\"source\":{\"id\":null,\"name\":\"Yahoo Entertainment\"},\"author\":\"David Welch and Gabrielle Coppola\",\"title\":\"Lordstown Motors Tumbles as Justice Department Begins Probe - Yahoo Finance\",\"description\":\"(Bloomberg) -- Lordstown Motors Corp. is being probed by the U.S. Justice Department in relation to claims that the company exaggerated potential sales of...\",\"url\":\"https://finance.yahoo.com/news/lordstown-motors-tumbles-report-justice-162236981.html\",\"urlToImage\":\"https://s.yimg.com/uu/api/res/1.2/g3pR8.7X2gVLy2Z2UlT_kg--~B/aD0xNDExO3c9MjAwMDthcHBpZD15dGFjaHlvbg--/https://media.zenfs.com/en/bloomberg_markets_842/0982104ab4b2858864c0c14da9ddbfa9\",\"publishedAt\":\"2021-07-02T19:10:09Z\",\"content\":\"(Bloomberg) -- Lordstown Motors Corp. is being probed by the U.S. Justice Department in relation to claims that the company exaggerated potential sales of its electric Endurance pickup truck, a perso… [+4146 chars]\"},{\"source\":{\"id\":null,\"name\":\"CNBC\"},\"author\":\"Jeff Cox\",\"title\":\"Fed Chair Powell met with Coinbase CEO Brian Armstrong in May - CNBC\",\"description\":\"Federal Reserve Chairman Jerome Powell met in May with Brian Armstrong, the CEO of cryptocurrency exchange Coinbase, central bank records show.\",\"url\":\"https://www.cnbc.com/2021/07/02/fed-chair-powell-met-with-coinbase-ceo-brian-armstrong-in-may.html\",\"urlToImage\":\"https://image.cnbcfm.com/api/v1/image/106868259-1618418339934-gettyimages-1144022591-775341711SF057_Consensus_20.jpeg?v=1618418400\",\"publishedAt\":\"2021-07-02T18:55:08Z\",\"content\":\"Federal Reserve Chairman Jerome Powell met in May with Brian Armstrong, the CEO of cryptocurrency exchange Coinbase, central bank records show.\\\\r\\\\nThe gathering happened May 11 and was one of only two … [+2233 chars]\"},{\"source\":{\"id\":null,\"name\":\"CNBC\"},\"author\":\"Thomas Franck\",\"title\":\"The SEC should have approved a bitcoin ETF a long time ago, regulator Peirce says - CNBC\",\"description\":\"A bitcoin ETF is long overdue, SEC Commissioner Hester Peirce said.\",\"url\":\"https://www.cnbc.com/2021/07/02/bitcoin-etf-should-be-approved-already-sec-regulator-says.html\",\"urlToImage\":\"https://image.cnbcfm.com/api/v1/image/106906024-1625228674537-gettyimages-1170765445-HOUSE_SEC.jpeg?v=1625228700\",\"publishedAt\":\"2021-07-02T18:48:05Z\",\"content\":\"Hester Peirce, commissioner of the U.S. Securities and Exchange Commission (SEC), center, listens during a House Financial Services Committee hearing in Washington, D.C., U.S., on Tuesday, Sept. 24, … [+6471 chars]\"},{\"source\":{\"id\":null,\"name\":\"New York Times\"},\"author\":\"Kate Conger\",\"title\":\"How the Restaurant Delivery Business Holds Strong as In-Person Dining Returns - The New York Times\",\"description\":\"As in-person dining returns, home delivery is holding up. For restaurants, services like DoorDash and Uber Eats could become a permanent part of their business.\",\"url\":\"https://www.nytimes.com/2021/07/02/technology/restaurant-delivery-takeout-orders-covid-coronavirus.html\",\"urlToImage\":\"https://static01.nyt.com/images/2021/06/28/business/00delivery-boom1/00delivery-boom1-facebookJumbo.jpg\",\"publishedAt\":\"2021-07-02T18:10:43Z\",\"content\":\"Some of those changes are beginning to look like they may become permanent, because consumers arent letting go of their newfound fondness for getting food delivered to their front doors. In a recent … [+1089 chars]\"},{\"source\":{\"id\":null,\"name\":\"New York Times\"},\"author\":\"Sapna Maheshwari\",\"title\":\"At Sweetgreen, Seeing the Future of Work in a Desk Salad - The New York Times\",\"description\":\"A favorite lunchtime destination of many urban office workers weathered the pandemic thanks to its digital savvy. It’s confident more people will be returning to their offices soon.\",\"url\":\"https://www.nytimes.com/2021/07/02/business/sweetgreen-return-to-office.html\",\"urlToImage\":\"https://static01.nyt.com/images/2021/06/22/business/00sweetgreen-1/00sweetgreen-1-facebookJumbo-v2.jpg\",\"publishedAt\":\"2021-07-02T18:10:19Z\",\"content\":\"With more than 30 locations in Manhattan and many customers who order salads digitally, Sweetgreen has had insight into the movements of its customers, even if they are not yet fully back to eating a… [+1516 chars]\"},{\"source\":{\"id\":\"cnn\",\"name\":\"CNN\"},\"author\":\"Brian Fung, CNN Business\",\"title\":\"FTC charges Broadcom with monopolizing chip industry - CNN \",\"description\":\"The Federal Trade Commission said Friday it has sued and settled with the technology giant Broadcom over allegations that the company sought to monopolize the supply of semiconductor chips.\",\"url\":\"https://www.cnn.com/2021/07/02/tech/ftc-broadcom/index.html\",\"urlToImage\":\"https://cdn.cnn.com/cnnnext/dam/assets/210702133931-broadcom-office-0603-super-tease.jpg\",\"publishedAt\":\"2021-07-02T17:59:00Z\",\"content\":null},{\"source\":{\"id\":null,\"name\":\"WPVI-TV\"},\"author\":\"6abc Digital Staff\",\"title\":\"Mega Millions: 5 winners claim $516M jackpot ticket sold at 7-Eleven in Levittown, Bucks County - WPVI-TV\",\"description\":\"Pennsylvania Lottery officials announced Friday that the jackpot-winning Mega Millions ticket from the May 21, 2021 drawing has been claimed.\",\"url\":\"https://6abc.com/winning-mega-millions-tickets-7-eleven-levittown-pennsylvania-lottery-number/10853845/\",\"urlToImage\":\"https://cdn.abcotvs.com/dip/images/10853945_070221-wpvi-bucks-county-lotter-winner-lawyers-img.jpg?w=1600\",\"publishedAt\":\"2021-07-02T17:34:30Z\",\"content\":\"LEVITTOWN, Pennsylvania (WPVI) -- Pennsylvania Lottery officials announced Friday that the jackpot-winning Mega Millions ticket from the May 21 drawing has been claimed. The jackpot had an annuity va… [+932 chars]\"},{\"source\":{\"id\":null,\"name\":\"CNBC\"},\"author\":\"Lorie Konish\",\"title\":\"IRS data shows just who got $1,400 stimulus payments. Some people with higher incomes received checks - CNBC\",\"description\":\"To get a third stimulus check, you had to meet certain income thresholds to qualify. Yet some people with incomes above $200,000 also received the money.\",\"url\":\"https://www.cnbc.com/2021/07/02/irs-data-shows-some-high-income-people-received-1400-checks.html\",\"urlToImage\":\"https://image.cnbcfm.com/api/v1/image/106873194-1619203834336-gettyimages-1295543516-chu_4520-stimuluscheck.jpeg?v=1619709309\",\"publishedAt\":\"2021-07-02T17:31:34Z\",\"content\":\"Figures from the IRS show who has received money from the third stimulus checks for up to $1,400 per person and there are some surprises.\\\\r\\\\nIn fact, some people with adjusted gross incomes above $200,… [+3683 chars]\"},{\"source\":{\"id\":\"business-insider\",\"name\":\"Business Insider\"},\"author\":\"Grace Kay\",\"title\":\"Workers stage walkouts at McDonald\\'s, Jack in the Box amid heat wave - Business Insider\",\"description\":\"\\\\\"It was uncomfortable and hard to breath,\\\\\" one McDonald\\'s worker told Insider.\",\"url\":\"https://www.businessinsider.com/walk-outs-mcdonalds-jack-in-the-box-over-heat-wave-2021-7\",\"urlToImage\":\"https://i.insider.com/60df30d64a93e20019129a8a?width=1200&format=jpeg\",\"publishedAt\":\"2021-07-02T17:03:33Z\",\"content\":\"Fast-food workers are struggling to beat the heat as many areas in the US continue to face record temperatures.\\\\r\\\\n\\\\\"It was uncomfortable and hard to breathe,\\\\\" Laura Pozos, a Los Angeles McDonald\\'s work… [+3632 chars]\"},{\"source\":{\"id\":null,\"name\":\"Fox Business\"},\"author\":\"Daniella Genovese\",\"title\":\"American Airlines passenger uses emergency exit to jump onto tarmac after flight delayed, canceled - Fox Business\",\"description\":\"Flight 2396, traveling from Charlotte to Thurgood Marshall Baltimore-Washington International Airport in Maryland, was canceled Thursday even after passengers had already boarded the plane.\",\"url\":\"https://www.foxbusiness.com/lifestyle/passenger-plane-exit-window-tarmac-delay-cancellation-arrest\",\"urlToImage\":\"https://a57.foxnews.com/static.foxbusiness.com/foxbusiness.com/content/uploads/2020/08/0/0/American-Airlines-iStock-006.jpg?ve=1&tl=1\",\"publishedAt\":\"2021-07-02T16:59:43Z\",\"content\":\"A passenger stuck on a canceled American Airlines flight out of Charlotte was arrested Thursday after fleeing the plane through the exit window.\\xa0\\\\r\\\\nFlight 2396 traveling from Charlotte to Thurgood Mar… [+2267 chars]\"},{\"source\":{\"id\":null,\"name\":\"New York Post\"},\"author\":\"Theo Wayt\",\"title\":\"Baby Doge? What to know about the Dogecoin spinoff that Elon Musk is hyping - New York Post \",\"description\":\"Elon Musk has anointed an heir to Dogecoin — and it’s called Baby Doge.\",\"url\":\"https://nypost.com/2021/07/02/what-you-need-to-know-about-baby-doge-the-dogecoin-spinoff/\",\"urlToImage\":\"https://nypost.com/wp-content/uploads/sites/2/2021/07/doge-coin-02.jpg?quality=90&strip=all&w=1200\",\"publishedAt\":\"2021-07-02T16:46:00Z\",\"content\":\"Elon Musk has anointed an heir to Dogecoin and its called Baby Doge.\\\\r\\\\nThe billionaire Tesla CEO gave a shout-out to the month-old spinoff of the canine-themed cryptocurrency on Twitter Thursday morni… [+3411 chars]\"},{\"source\":{\"id\":\"fox-news\",\"name\":\"Fox News\"},\"author\":\"Ann Schmidt\",\"title\":\"Hot dogs: 5 little-known facts ahead of July 4 - Fox News\",\"description\":\"Here’s what you need to know about hot dogs ahead of “the single largest hot dog day of the year.”\",\"url\":\"https://www.foxnews.com/food-drink/hot-dogs-little-known-facts\",\"urlToImage\":\"https://static.foxnews.com/foxnews.com/content/uploads/2021/07/Chicago-hot-dog-iStock.jpg\",\"publishedAt\":\"2021-07-02T16:36:15Z\",\"content\":\"Its summer, which means were in peak hot dog season.\\xa0\\\\r\\\\nIn fact, as Americans celebrate Independence Day this weekend, they will also be enjoying \\\\\"the single largest hot dog day of the year,\\\\\" Eric Mit… [+5358 chars]\"},{\"source\":{\"id\":null,\"name\":\"CNBC\"},\"author\":\"Tanaya Macheel\",\"title\":\"Stocks making the biggest moves midday: Krispy Kreme, Virgin Galactic, IBM, Didi and more - CNBC\",\"description\":\"These are the stocks posting the largest moves in midday trading.\",\"url\":\"https://www.cnbc.com/2021/07/02/stocks-making-the-biggest-moves-midday-krispy-kreme-virgin-galactic-ibm-didi-and-more.html\",\"urlToImage\":\"https://image.cnbcfm.com/api/v1/image/105967905-1560464964825krispykremetimessquareflagship_rendering_ext_homemode.jpg?v=1560539277\",\"publishedAt\":\"2021-07-02T16:32:27Z\",\"content\":\"Check out the companies making headlines in midday trading.\\\\r\\\\nVirgin Galactic The space tourism company\\'s stock is up 3% after announcing founder Sir Richard Branson will be aboard its next spacefligh… [+3211 chars]\"},{\"source\":{\"id\":null,\"name\":\"CNBC\"},\"author\":\"Tom Popomaronis\",\"title\":\"Jeff Bezos on his 4-step method for building trust and reputation: \\'It\\'s really that simple\\'—and research backs it up - CNBC\",\"description\":\"To be successful at anything, according to Amazon\\'s Jeff Bezos, one of the most important things you must do is build trust and develop a good reputation. It\\'s simple, but not easy, the billionaire said during a 2019 fireside chat. Here\\'s how he does it.\",\"url\":\"https://www.cnbc.com/2021/07/02/jeff-bezos-says-this-is-how-you-earn-trust-and-build-reputation-it-really-is-that-simple.html\",\"urlToImage\":\"https://image.cnbcfm.com/api/v1/image/106569797-1591649109683gettyimages-1032942656.jpeg?v=1619769761\",\"publishedAt\":\"2021-07-02T16:18:09Z\",\"content\":\"What does it take to achieve great success in your career?\\\\r\\\\nAccording to Jeff Bezos, one of the most important things you need to do is to build trust and maintain a good reputation. But it isn\\'t eas… [+3388 chars]\"},{\"source\":{\"id\":null,\"name\":\"WGAL Susquehanna Valley Pa.\"},\"author\":\"Anne Shannon\",\"title\":\"AAA: Nearly 48 million Americans expected to travel over Fourth of July weekend - WGAL Susquehanna Valley Pa.\",\"description\":\"Travel this year will reach the second-highest Independence Day volume, according to AAA.\",\"url\":\"https://www.wgal.com/article/aaa-nearly-48-million-americans-expected-to-travel-over-fourth-of-july-weekend-2021/36914933\",\"urlToImage\":\"https://kubrick.htvapps.com/vidthumb/images/fourth-of-july-travel-1625242387.jpg?crop=1xw:1xh;center,top&resize=1200:*\",\"publishedAt\":\"2021-07-02T16:16:00Z\",\"content\":\"A lot of people will be traveling over the Fourth of July weekend. Experts say it could be one of the biggest travel weekends on record.\\\\r\\\\nAAA is expecting 47.7 million Americans to travel this holida… [+743 chars]\"},{\"source\":{\"id\":null,\"name\":\"Detroit Free Press\"},\"author\":\"Phoebe Wall Howard, Detroit Free Press\",\"title\":\"Ford is about to ship thousands of F-150s to dealers as pickup demand remains high - Detroit Free Press\",\"description\":\"Ford planning to chip and ship F-150 backlog, Free Press confirms\",\"url\":\"https://www.freep.com/story/money/cars/ford/2021/07/02/ford-sales-f-150-semiconductor-chip-shortage/7836909002/\",\"urlToImage\":\"https://www.gannett-cdn.com/presto/2021/07/02/PDTF/d40475d6-c317-49ad-8b64-523fc3d20e66-Mark_Restum.jpg?auto=webp&crop=3377,1900,x0,y0&format=pjpg&width=1200\",\"publishedAt\":\"2021-07-02T16:08:56Z\",\"content\":\"Despite having relatively barren supplies on\\xa0dealer lots and dismal\\xa0sales in June,\\xa0Ford Motor Co. revealed on Friday a dramatic plan to pivot.\\\\r\\\\nFord is getting a\\xa0new supply of semiconductor chips and… [+6289 chars]\"},{\"source\":{\"id\":\"the-verge\",\"name\":\"The Verge\"},\"author\":\"Zoe Schiffer\",\"title\":\"Internal Apple survey shows concern about hybrid work model - The Verge\",\"description\":\"The survey was a grassroots effort from Apple employees. It shows nearly 90 percent of respondents want the option to work from home.\",\"url\":\"https://www.theverge.com/2021/7/2/22560586/apple-hybrid-work-internal-survey-tim-cook\",\"urlToImage\":\"https://cdn.vox-cdn.com/thumbor/W4T_cOXSKByy6vwN8c-FcH-1S4A=/0x146:2040x1214/fit-in/1200x630/cdn.vox-cdn.com/uploads/chorus_asset/file/11477051/acastro_180604_1777_apple_wwdc_0003.jpg\",\"publishedAt\":\"2021-07-02T16:00:32Z\",\"content\":\"Nearly 90 percent of respondents said flexible options are important to them\\\\r\\\\nIllustration by Alex Castro / The Verge\\\\r\\\\nAn internal survey designed by Apple employees shows respondents want the option… [+2556 chars]\"},{\"source\":{\"id\":\"the-verge\",\"name\":\"The Verge\"},\"author\":\"Sean O\\'Kane\",\"title\":\"Porsche recalls Taycans over sudden power loss problem - The Verge\",\"description\":\"A problem with the 12-volt battery in Porsche’s first electric car can cause a sudden loss of power while driving, so the German automaker is recalling the Taycan. Owners will have to bring their vehicles to a dealer for an hourlong fix.\",\"url\":\"https://www.theverge.com/2021/7/2/22559051/porsche-taycan-ev-recall-12-volt-audi-etron-gt\",\"urlToImage\":\"https://cdn.vox-cdn.com/thumbor/zaguU2MVv6A37Xc7Dp-osdT0Z2o=/0x146:2040x1214/fit-in/1200x630/cdn.vox-cdn.com/uploads/chorus_asset/file/19166646/porsche_taycan_0853.jpg\",\"publishedAt\":\"2021-07-02T15:57:09Z\",\"content\":\"The Audi E-Tron GT is also affected by the same 12-volt battery issue\\\\r\\\\nPhoto by Sean OKane / The Verge\\\\r\\\\nPorsche is recalling its first EV, the Taycan, to fix an issue where some cars suddenly lose po… [+3641 chars]\"},{\"source\":{\"id\":\"fox-news\",\"name\":\"Fox News\"},\"author\":\"Audrey Conklin\",\"title\":\"Sen. Ron Johnson sends letters to Moderna, Pfizer CEOs seeking answers about COVID-19 vaccines - Fox News\",\"description\":\"Sen. Ron Johnson, R-Wis., has sent letters to the CEOs of Pfizer and Moderna seeking answers about adverse reactions to the COVID-19 vaccine following a June 28 press conference with affected individuals\",\"url\":\"https://www.foxnews.com/politics/ron-johnson-letters-moderna-pfizer-vaccine\",\"urlToImage\":\"https://static.foxnews.com/foxnews.com/content/uploads/2021/07/Sen-1.jpg\",\"publishedAt\":\"2021-07-02T15:44:52Z\",\"content\":\"Sen. Ron Johnson, R-Wis., has sent letters to the CEOs of Pfizer and Moderna seeking answers about adverse reactions to the COVID-19\\\\r\\\\nvaccine\\\\r\\\\n following a June 28 press conference with affected indi… [+6680 chars]\"}]}'"
            ]
          },
          "metadata": {
            "tags": []
          },
          "execution_count": 5
        }
      ]
    },
    {
      "cell_type": "code",
      "metadata": {
        "colab": {
          "base_uri": "https://localhost:8080/"
        },
        "id": "sKnMCYwJzYvs",
        "outputId": "eccf201b-c28a-4a6a-a02c-68ae86bcd59b"
      },
      "source": [
        "#Open python dictionary with jason file \n",
        "data = resp.json()\n",
        "data"
      ],
      "execution_count": null,
      "outputs": [
        {
          "output_type": "execute_result",
          "data": {
            "text/plain": [
              "{'articles': [{'author': 'Jon Brodkin',\n",
              "   'content': \"32 with 26 posters participating\\r\\nThe nation's largest phone companies have met a federal deadline to deploy a new anti-robocall technology, but unwanted calls and scams will continue to be an annoyi… [+7916 chars]\",\n",
              "   'description': 'Large carriers deploy STIR/SHAKEN. Small carriers, old landlines are still problems.',\n",
              "   'publishedAt': '2021-07-02T19:38:58Z',\n",
              "   'source': {'id': 'ars-technica', 'name': 'Ars Technica'},\n",
              "   'title': 'US hits anti-robocall milestone but annoying calls won’t stop any time soon - Ars Technica',\n",
              "   'url': 'https://arstechnica.com/tech-policy/2021/07/us-hits-anti-robocall-milestone-but-annoying-calls-wont-stop-any-time-soon/',\n",
              "   'urlToImage': 'https://cdn.arstechnica.net/wp-content/uploads/2021/04/robocalls-are-really-annoying-760x380.jpg'},\n",
              "  {'author': 'David Welch and Gabrielle Coppola',\n",
              "   'content': '(Bloomberg) -- Lordstown Motors Corp. is being probed by the U.S. Justice Department in relation to claims that the company exaggerated potential sales of its electric Endurance pickup truck, a perso… [+4146 chars]',\n",
              "   'description': '(Bloomberg) -- Lordstown Motors Corp. is being probed by the U.S. Justice Department in relation to claims that the company exaggerated potential sales of...',\n",
              "   'publishedAt': '2021-07-02T19:10:09Z',\n",
              "   'source': {'id': None, 'name': 'Yahoo Entertainment'},\n",
              "   'title': 'Lordstown Motors Tumbles as Justice Department Begins Probe - Yahoo Finance',\n",
              "   'url': 'https://finance.yahoo.com/news/lordstown-motors-tumbles-report-justice-162236981.html',\n",
              "   'urlToImage': 'https://s.yimg.com/uu/api/res/1.2/g3pR8.7X2gVLy2Z2UlT_kg--~B/aD0xNDExO3c9MjAwMDthcHBpZD15dGFjaHlvbg--/https://media.zenfs.com/en/bloomberg_markets_842/0982104ab4b2858864c0c14da9ddbfa9'},\n",
              "  {'author': 'Jeff Cox',\n",
              "   'content': 'Federal Reserve Chairman Jerome Powell met in May with Brian Armstrong, the CEO of cryptocurrency exchange Coinbase, central bank records show.\\r\\nThe gathering happened May 11 and was one of only two … [+2233 chars]',\n",
              "   'description': 'Federal Reserve Chairman Jerome Powell met in May with Brian Armstrong, the CEO of cryptocurrency exchange Coinbase, central bank records show.',\n",
              "   'publishedAt': '2021-07-02T18:55:08Z',\n",
              "   'source': {'id': None, 'name': 'CNBC'},\n",
              "   'title': 'Fed Chair Powell met with Coinbase CEO Brian Armstrong in May - CNBC',\n",
              "   'url': 'https://www.cnbc.com/2021/07/02/fed-chair-powell-met-with-coinbase-ceo-brian-armstrong-in-may.html',\n",
              "   'urlToImage': 'https://image.cnbcfm.com/api/v1/image/106868259-1618418339934-gettyimages-1144022591-775341711SF057_Consensus_20.jpeg?v=1618418400'},\n",
              "  {'author': 'Thomas Franck',\n",
              "   'content': 'Hester Peirce, commissioner of the U.S. Securities and Exchange Commission (SEC), center, listens during a House Financial Services Committee hearing in Washington, D.C., U.S., on Tuesday, Sept. 24, … [+6471 chars]',\n",
              "   'description': 'A bitcoin ETF is long overdue, SEC Commissioner Hester Peirce said.',\n",
              "   'publishedAt': '2021-07-02T18:48:05Z',\n",
              "   'source': {'id': None, 'name': 'CNBC'},\n",
              "   'title': 'The SEC should have approved a bitcoin ETF a long time ago, regulator Peirce says - CNBC',\n",
              "   'url': 'https://www.cnbc.com/2021/07/02/bitcoin-etf-should-be-approved-already-sec-regulator-says.html',\n",
              "   'urlToImage': 'https://image.cnbcfm.com/api/v1/image/106906024-1625228674537-gettyimages-1170765445-HOUSE_SEC.jpeg?v=1625228700'},\n",
              "  {'author': 'Kate Conger',\n",
              "   'content': 'Some of those changes are beginning to look like they may become permanent, because consumers arent letting go of their newfound fondness for getting food delivered to their front doors. In a recent … [+1089 chars]',\n",
              "   'description': 'As in-person dining returns, home delivery is holding up. For restaurants, services like DoorDash and Uber Eats could become a permanent part of their business.',\n",
              "   'publishedAt': '2021-07-02T18:10:43Z',\n",
              "   'source': {'id': None, 'name': 'New York Times'},\n",
              "   'title': 'How the Restaurant Delivery Business Holds Strong as In-Person Dining Returns - The New York Times',\n",
              "   'url': 'https://www.nytimes.com/2021/07/02/technology/restaurant-delivery-takeout-orders-covid-coronavirus.html',\n",
              "   'urlToImage': 'https://static01.nyt.com/images/2021/06/28/business/00delivery-boom1/00delivery-boom1-facebookJumbo.jpg'},\n",
              "  {'author': 'Sapna Maheshwari',\n",
              "   'content': 'With more than 30 locations in Manhattan and many customers who order salads digitally, Sweetgreen has had insight into the movements of its customers, even if they are not yet fully back to eating a… [+1516 chars]',\n",
              "   'description': 'A favorite lunchtime destination of many urban office workers weathered the pandemic thanks to its digital savvy. It’s confident more people will be returning to their offices soon.',\n",
              "   'publishedAt': '2021-07-02T18:10:19Z',\n",
              "   'source': {'id': None, 'name': 'New York Times'},\n",
              "   'title': 'At Sweetgreen, Seeing the Future of Work in a Desk Salad - The New York Times',\n",
              "   'url': 'https://www.nytimes.com/2021/07/02/business/sweetgreen-return-to-office.html',\n",
              "   'urlToImage': 'https://static01.nyt.com/images/2021/06/22/business/00sweetgreen-1/00sweetgreen-1-facebookJumbo-v2.jpg'},\n",
              "  {'author': 'Brian Fung, CNN Business',\n",
              "   'content': None,\n",
              "   'description': 'The Federal Trade Commission said Friday it has sued and settled with the technology giant Broadcom over allegations that the company sought to monopolize the supply of semiconductor chips.',\n",
              "   'publishedAt': '2021-07-02T17:59:00Z',\n",
              "   'source': {'id': 'cnn', 'name': 'CNN'},\n",
              "   'title': 'FTC charges Broadcom with monopolizing chip industry - CNN ',\n",
              "   'url': 'https://www.cnn.com/2021/07/02/tech/ftc-broadcom/index.html',\n",
              "   'urlToImage': 'https://cdn.cnn.com/cnnnext/dam/assets/210702133931-broadcom-office-0603-super-tease.jpg'},\n",
              "  {'author': '6abc Digital Staff',\n",
              "   'content': 'LEVITTOWN, Pennsylvania (WPVI) -- Pennsylvania Lottery officials announced Friday that the jackpot-winning Mega Millions ticket from the May 21 drawing has been claimed. The jackpot had an annuity va… [+932 chars]',\n",
              "   'description': 'Pennsylvania Lottery officials announced Friday that the jackpot-winning Mega Millions ticket from the May 21, 2021 drawing has been claimed.',\n",
              "   'publishedAt': '2021-07-02T17:34:30Z',\n",
              "   'source': {'id': None, 'name': 'WPVI-TV'},\n",
              "   'title': 'Mega Millions: 5 winners claim $516M jackpot ticket sold at 7-Eleven in Levittown, Bucks County - WPVI-TV',\n",
              "   'url': 'https://6abc.com/winning-mega-millions-tickets-7-eleven-levittown-pennsylvania-lottery-number/10853845/',\n",
              "   'urlToImage': 'https://cdn.abcotvs.com/dip/images/10853945_070221-wpvi-bucks-county-lotter-winner-lawyers-img.jpg?w=1600'},\n",
              "  {'author': 'Lorie Konish',\n",
              "   'content': 'Figures from the IRS show who has received money from the third stimulus checks for up to $1,400 per person and there are some surprises.\\r\\nIn fact, some people with adjusted gross incomes above $200,… [+3683 chars]',\n",
              "   'description': 'To get a third stimulus check, you had to meet certain income thresholds to qualify. Yet some people with incomes above $200,000 also received the money.',\n",
              "   'publishedAt': '2021-07-02T17:31:34Z',\n",
              "   'source': {'id': None, 'name': 'CNBC'},\n",
              "   'title': 'IRS data shows just who got $1,400 stimulus payments. Some people with higher incomes received checks - CNBC',\n",
              "   'url': 'https://www.cnbc.com/2021/07/02/irs-data-shows-some-high-income-people-received-1400-checks.html',\n",
              "   'urlToImage': 'https://image.cnbcfm.com/api/v1/image/106873194-1619203834336-gettyimages-1295543516-chu_4520-stimuluscheck.jpeg?v=1619709309'},\n",
              "  {'author': 'Grace Kay',\n",
              "   'content': 'Fast-food workers are struggling to beat the heat as many areas in the US continue to face record temperatures.\\r\\n\"It was uncomfortable and hard to breathe,\" Laura Pozos, a Los Angeles McDonald\\'s work… [+3632 chars]',\n",
              "   'description': '\"It was uncomfortable and hard to breath,\" one McDonald\\'s worker told Insider.',\n",
              "   'publishedAt': '2021-07-02T17:03:33Z',\n",
              "   'source': {'id': 'business-insider', 'name': 'Business Insider'},\n",
              "   'title': \"Workers stage walkouts at McDonald's, Jack in the Box amid heat wave - Business Insider\",\n",
              "   'url': 'https://www.businessinsider.com/walk-outs-mcdonalds-jack-in-the-box-over-heat-wave-2021-7',\n",
              "   'urlToImage': 'https://i.insider.com/60df30d64a93e20019129a8a?width=1200&format=jpeg'},\n",
              "  {'author': 'Daniella Genovese',\n",
              "   'content': 'A passenger stuck on a canceled American Airlines flight out of Charlotte was arrested Thursday after fleeing the plane through the exit window.\\xa0\\r\\nFlight 2396 traveling from Charlotte to Thurgood Mar… [+2267 chars]',\n",
              "   'description': 'Flight 2396, traveling from Charlotte to Thurgood Marshall Baltimore-Washington International Airport in Maryland, was canceled Thursday even after passengers had already boarded the plane.',\n",
              "   'publishedAt': '2021-07-02T16:59:43Z',\n",
              "   'source': {'id': None, 'name': 'Fox Business'},\n",
              "   'title': 'American Airlines passenger uses emergency exit to jump onto tarmac after flight delayed, canceled - Fox Business',\n",
              "   'url': 'https://www.foxbusiness.com/lifestyle/passenger-plane-exit-window-tarmac-delay-cancellation-arrest',\n",
              "   'urlToImage': 'https://a57.foxnews.com/static.foxbusiness.com/foxbusiness.com/content/uploads/2020/08/0/0/American-Airlines-iStock-006.jpg?ve=1&tl=1'},\n",
              "  {'author': 'Theo Wayt',\n",
              "   'content': 'Elon Musk has anointed an heir to Dogecoin and its called Baby Doge.\\r\\nThe billionaire Tesla CEO gave a shout-out to the month-old spinoff of the canine-themed cryptocurrency on Twitter Thursday morni… [+3411 chars]',\n",
              "   'description': 'Elon Musk has anointed an heir to Dogecoin — and it’s called Baby Doge.',\n",
              "   'publishedAt': '2021-07-02T16:46:00Z',\n",
              "   'source': {'id': None, 'name': 'New York Post'},\n",
              "   'title': 'Baby Doge? What to know about the Dogecoin spinoff that Elon Musk is hyping - New York Post ',\n",
              "   'url': 'https://nypost.com/2021/07/02/what-you-need-to-know-about-baby-doge-the-dogecoin-spinoff/',\n",
              "   'urlToImage': 'https://nypost.com/wp-content/uploads/sites/2/2021/07/doge-coin-02.jpg?quality=90&strip=all&w=1200'},\n",
              "  {'author': 'Ann Schmidt',\n",
              "   'content': 'Its summer, which means were in peak hot dog season.\\xa0\\r\\nIn fact, as Americans celebrate Independence Day this weekend, they will also be enjoying \"the single largest hot dog day of the year,\" Eric Mit… [+5358 chars]',\n",
              "   'description': 'Here’s what you need to know about hot dogs ahead of “the single largest hot dog day of the year.”',\n",
              "   'publishedAt': '2021-07-02T16:36:15Z',\n",
              "   'source': {'id': 'fox-news', 'name': 'Fox News'},\n",
              "   'title': 'Hot dogs: 5 little-known facts ahead of July 4 - Fox News',\n",
              "   'url': 'https://www.foxnews.com/food-drink/hot-dogs-little-known-facts',\n",
              "   'urlToImage': 'https://static.foxnews.com/foxnews.com/content/uploads/2021/07/Chicago-hot-dog-iStock.jpg'},\n",
              "  {'author': 'Tanaya Macheel',\n",
              "   'content': \"Check out the companies making headlines in midday trading.\\r\\nVirgin Galactic The space tourism company's stock is up 3% after announcing founder Sir Richard Branson will be aboard its next spacefligh… [+3211 chars]\",\n",
              "   'description': 'These are the stocks posting the largest moves in midday trading.',\n",
              "   'publishedAt': '2021-07-02T16:32:27Z',\n",
              "   'source': {'id': None, 'name': 'CNBC'},\n",
              "   'title': 'Stocks making the biggest moves midday: Krispy Kreme, Virgin Galactic, IBM, Didi and more - CNBC',\n",
              "   'url': 'https://www.cnbc.com/2021/07/02/stocks-making-the-biggest-moves-midday-krispy-kreme-virgin-galactic-ibm-didi-and-more.html',\n",
              "   'urlToImage': 'https://image.cnbcfm.com/api/v1/image/105967905-1560464964825krispykremetimessquareflagship_rendering_ext_homemode.jpg?v=1560539277'},\n",
              "  {'author': 'Tom Popomaronis',\n",
              "   'content': \"What does it take to achieve great success in your career?\\r\\nAccording to Jeff Bezos, one of the most important things you need to do is to build trust and maintain a good reputation. But it isn't eas… [+3388 chars]\",\n",
              "   'description': \"To be successful at anything, according to Amazon's Jeff Bezos, one of the most important things you must do is build trust and develop a good reputation. It's simple, but not easy, the billionaire said during a 2019 fireside chat. Here's how he does it.\",\n",
              "   'publishedAt': '2021-07-02T16:18:09Z',\n",
              "   'source': {'id': None, 'name': 'CNBC'},\n",
              "   'title': \"Jeff Bezos on his 4-step method for building trust and reputation: 'It's really that simple'—and research backs it up - CNBC\",\n",
              "   'url': 'https://www.cnbc.com/2021/07/02/jeff-bezos-says-this-is-how-you-earn-trust-and-build-reputation-it-really-is-that-simple.html',\n",
              "   'urlToImage': 'https://image.cnbcfm.com/api/v1/image/106569797-1591649109683gettyimages-1032942656.jpeg?v=1619769761'},\n",
              "  {'author': 'Anne Shannon',\n",
              "   'content': 'A lot of people will be traveling over the Fourth of July weekend. Experts say it could be one of the biggest travel weekends on record.\\r\\nAAA is expecting 47.7 million Americans to travel this holida… [+743 chars]',\n",
              "   'description': 'Travel this year will reach the second-highest Independence Day volume, according to AAA.',\n",
              "   'publishedAt': '2021-07-02T16:16:00Z',\n",
              "   'source': {'id': None, 'name': 'WGAL Susquehanna Valley Pa.'},\n",
              "   'title': 'AAA: Nearly 48 million Americans expected to travel over Fourth of July weekend - WGAL Susquehanna Valley Pa.',\n",
              "   'url': 'https://www.wgal.com/article/aaa-nearly-48-million-americans-expected-to-travel-over-fourth-of-july-weekend-2021/36914933',\n",
              "   'urlToImage': 'https://kubrick.htvapps.com/vidthumb/images/fourth-of-july-travel-1625242387.jpg?crop=1xw:1xh;center,top&resize=1200:*'},\n",
              "  {'author': 'Phoebe Wall Howard, Detroit Free Press',\n",
              "   'content': 'Despite having relatively barren supplies on\\xa0dealer lots and dismal\\xa0sales in June,\\xa0Ford Motor Co. revealed on Friday a dramatic plan to pivot.\\r\\nFord is getting a\\xa0new supply of semiconductor chips and… [+6289 chars]',\n",
              "   'description': 'Ford planning to chip and ship F-150 backlog, Free Press confirms',\n",
              "   'publishedAt': '2021-07-02T16:08:56Z',\n",
              "   'source': {'id': None, 'name': 'Detroit Free Press'},\n",
              "   'title': 'Ford is about to ship thousands of F-150s to dealers as pickup demand remains high - Detroit Free Press',\n",
              "   'url': 'https://www.freep.com/story/money/cars/ford/2021/07/02/ford-sales-f-150-semiconductor-chip-shortage/7836909002/',\n",
              "   'urlToImage': 'https://www.gannett-cdn.com/presto/2021/07/02/PDTF/d40475d6-c317-49ad-8b64-523fc3d20e66-Mark_Restum.jpg?auto=webp&crop=3377,1900,x0,y0&format=pjpg&width=1200'},\n",
              "  {'author': 'Zoe Schiffer',\n",
              "   'content': 'Nearly 90 percent of respondents said flexible options are important to them\\r\\nIllustration by Alex Castro / The Verge\\r\\nAn internal survey designed by Apple employees shows respondents want the option… [+2556 chars]',\n",
              "   'description': 'The survey was a grassroots effort from Apple employees. It shows nearly 90 percent of respondents want the option to work from home.',\n",
              "   'publishedAt': '2021-07-02T16:00:32Z',\n",
              "   'source': {'id': 'the-verge', 'name': 'The Verge'},\n",
              "   'title': 'Internal Apple survey shows concern about hybrid work model - The Verge',\n",
              "   'url': 'https://www.theverge.com/2021/7/2/22560586/apple-hybrid-work-internal-survey-tim-cook',\n",
              "   'urlToImage': 'https://cdn.vox-cdn.com/thumbor/W4T_cOXSKByy6vwN8c-FcH-1S4A=/0x146:2040x1214/fit-in/1200x630/cdn.vox-cdn.com/uploads/chorus_asset/file/11477051/acastro_180604_1777_apple_wwdc_0003.jpg'},\n",
              "  {'author': \"Sean O'Kane\",\n",
              "   'content': 'The Audi E-Tron GT is also affected by the same 12-volt battery issue\\r\\nPhoto by Sean OKane / The Verge\\r\\nPorsche is recalling its first EV, the Taycan, to fix an issue where some cars suddenly lose po… [+3641 chars]',\n",
              "   'description': 'A problem with the 12-volt battery in Porsche’s first electric car can cause a sudden loss of power while driving, so the German automaker is recalling the Taycan. Owners will have to bring their vehicles to a dealer for an hourlong fix.',\n",
              "   'publishedAt': '2021-07-02T15:57:09Z',\n",
              "   'source': {'id': 'the-verge', 'name': 'The Verge'},\n",
              "   'title': 'Porsche recalls Taycans over sudden power loss problem - The Verge',\n",
              "   'url': 'https://www.theverge.com/2021/7/2/22559051/porsche-taycan-ev-recall-12-volt-audi-etron-gt',\n",
              "   'urlToImage': 'https://cdn.vox-cdn.com/thumbor/zaguU2MVv6A37Xc7Dp-osdT0Z2o=/0x146:2040x1214/fit-in/1200x630/cdn.vox-cdn.com/uploads/chorus_asset/file/19166646/porsche_taycan_0853.jpg'},\n",
              "  {'author': 'Audrey Conklin',\n",
              "   'content': 'Sen. Ron Johnson, R-Wis., has sent letters to the CEOs of Pfizer and Moderna seeking answers about adverse reactions to the COVID-19\\r\\nvaccine\\r\\n following a June 28 press conference with affected indi… [+6680 chars]',\n",
              "   'description': 'Sen. Ron Johnson, R-Wis., has sent letters to the CEOs of Pfizer and Moderna seeking answers about adverse reactions to the COVID-19 vaccine following a June 28 press conference with affected individuals',\n",
              "   'publishedAt': '2021-07-02T15:44:52Z',\n",
              "   'source': {'id': 'fox-news', 'name': 'Fox News'},\n",
              "   'title': 'Sen. Ron Johnson sends letters to Moderna, Pfizer CEOs seeking answers about COVID-19 vaccines - Fox News',\n",
              "   'url': 'https://www.foxnews.com/politics/ron-johnson-letters-moderna-pfizer-vaccine',\n",
              "   'urlToImage': 'https://static.foxnews.com/foxnews.com/content/uploads/2021/07/Sen-1.jpg'}],\n",
              " 'status': 'ok',\n",
              " 'totalResults': 70}"
            ]
          },
          "metadata": {
            "tags": []
          },
          "execution_count": 6
        }
      ]
    },
    {
      "cell_type": "code",
      "metadata": {
        "colab": {
          "base_uri": "https://localhost:8080/"
        },
        "id": "DmdRLsZxzidU",
        "outputId": "a38ac083-1910-4979-b421-d3ba2cec96b5"
      },
      "source": [
        "data.keys()"
      ],
      "execution_count": null,
      "outputs": [
        {
          "output_type": "execute_result",
          "data": {
            "text/plain": [
              "dict_keys(['status', 'totalResults', 'articles'])"
            ]
          },
          "metadata": {
            "tags": []
          },
          "execution_count": 7
        }
      ]
    },
    {
      "cell_type": "code",
      "metadata": {
        "colab": {
          "base_uri": "https://localhost:8080/",
          "height": 35
        },
        "id": "lfGMNz4Qzk-_",
        "outputId": "25b4a3ae-0bc3-4f40-a90f-ff66f35826c6"
      },
      "source": [
        "data['status']"
      ],
      "execution_count": null,
      "outputs": [
        {
          "output_type": "execute_result",
          "data": {
            "application/vnd.google.colaboratory.intrinsic+json": {
              "type": "string"
            },
            "text/plain": [
              "'ok'"
            ]
          },
          "metadata": {
            "tags": []
          },
          "execution_count": 8
        }
      ]
    },
    {
      "cell_type": "code",
      "metadata": {
        "colab": {
          "base_uri": "https://localhost:8080/"
        },
        "id": "7UzQB9YcznKC",
        "outputId": "106f600b-0d0b-4a30-fec2-c6784c95ec29"
      },
      "source": [
        "data['totalResults']"
      ],
      "execution_count": null,
      "outputs": [
        {
          "output_type": "execute_result",
          "data": {
            "text/plain": [
              "70"
            ]
          },
          "metadata": {
            "tags": []
          },
          "execution_count": 9
        }
      ]
    },
    {
      "cell_type": "code",
      "metadata": {
        "colab": {
          "base_uri": "https://localhost:8080/"
        },
        "id": "53revBoSzpQD",
        "outputId": "404a3fc2-aa4b-4221-ab1d-84cfe8f65c35"
      },
      "source": [
        "#List of returned article urls \n",
        "for article in data['articles']:\n",
        "  print(article['url'])"
      ],
      "execution_count": null,
      "outputs": [
        {
          "output_type": "stream",
          "text": [
            "https://arstechnica.com/tech-policy/2021/07/us-hits-anti-robocall-milestone-but-annoying-calls-wont-stop-any-time-soon/\n",
            "https://finance.yahoo.com/news/lordstown-motors-tumbles-report-justice-162236981.html\n",
            "https://www.cnbc.com/2021/07/02/fed-chair-powell-met-with-coinbase-ceo-brian-armstrong-in-may.html\n",
            "https://www.cnbc.com/2021/07/02/bitcoin-etf-should-be-approved-already-sec-regulator-says.html\n",
            "https://www.nytimes.com/2021/07/02/technology/restaurant-delivery-takeout-orders-covid-coronavirus.html\n",
            "https://www.nytimes.com/2021/07/02/business/sweetgreen-return-to-office.html\n",
            "https://www.cnn.com/2021/07/02/tech/ftc-broadcom/index.html\n",
            "https://6abc.com/winning-mega-millions-tickets-7-eleven-levittown-pennsylvania-lottery-number/10853845/\n",
            "https://www.cnbc.com/2021/07/02/irs-data-shows-some-high-income-people-received-1400-checks.html\n",
            "https://www.businessinsider.com/walk-outs-mcdonalds-jack-in-the-box-over-heat-wave-2021-7\n",
            "https://www.foxbusiness.com/lifestyle/passenger-plane-exit-window-tarmac-delay-cancellation-arrest\n",
            "https://nypost.com/2021/07/02/what-you-need-to-know-about-baby-doge-the-dogecoin-spinoff/\n",
            "https://www.foxnews.com/food-drink/hot-dogs-little-known-facts\n",
            "https://www.cnbc.com/2021/07/02/stocks-making-the-biggest-moves-midday-krispy-kreme-virgin-galactic-ibm-didi-and-more.html\n",
            "https://www.cnbc.com/2021/07/02/jeff-bezos-says-this-is-how-you-earn-trust-and-build-reputation-it-really-is-that-simple.html\n",
            "https://www.wgal.com/article/aaa-nearly-48-million-americans-expected-to-travel-over-fourth-of-july-weekend-2021/36914933\n",
            "https://www.freep.com/story/money/cars/ford/2021/07/02/ford-sales-f-150-semiconductor-chip-shortage/7836909002/\n",
            "https://www.theverge.com/2021/7/2/22560586/apple-hybrid-work-internal-survey-tim-cook\n",
            "https://www.theverge.com/2021/7/2/22559051/porsche-taycan-ev-recall-12-volt-audi-etron-gt\n",
            "https://www.foxnews.com/politics/ron-johnson-letters-moderna-pfizer-vaccine\n"
          ],
          "name": "stdout"
        }
      ]
    },
    {
      "cell_type": "code",
      "metadata": {
        "colab": {
          "base_uri": "https://localhost:8080/"
        },
        "id": "5ZL9_iMrzzU8",
        "outputId": "55a54cbc-5475-4a0b-c7b8-a600e71b8a72"
      },
      "source": [
        "def getNews(source):\n",
        "\n",
        "  url_list = []\n",
        "\n",
        "  for article in data['articles']:\n",
        "    if source == article['source'] ['id']:\n",
        "      url_list.append(article['url'])\n",
        "  return url_list\n",
        "\n",
        "getNews('google-news')"
      ],
      "execution_count": null,
      "outputs": [
        {
          "output_type": "execute_result",
          "data": {
            "text/plain": [
              "[]"
            ]
          },
          "metadata": {
            "tags": []
          },
          "execution_count": 11
        }
      ]
    },
    {
      "cell_type": "code",
      "metadata": {
        "colab": {
          "base_uri": "https://localhost:8080/"
        },
        "id": "LCtDZGav0PBC",
        "outputId": "d93b9810-6d0f-49e4-c3e8-338c5aaf72fa"
      },
      "source": [
        "#getNews function to accept name of source, get queries of NewsAPI and a list of URLs for news stories \n",
        "def getNews(source):\n",
        "\n",
        "  url_list = []\n",
        "\n",
        "  for article in data['articles']:\n",
        "    if source == article['source'] ['id']:\n",
        "      url_list.append(article['url'])\n",
        "  return url_list\n",
        "\n",
        "getNews('google-news')"
      ],
      "execution_count": null,
      "outputs": [
        {
          "output_type": "execute_result",
          "data": {
            "text/plain": [
              "[]"
            ]
          },
          "metadata": {
            "tags": []
          },
          "execution_count": 12
        }
      ]
    },
    {
      "cell_type": "markdown",
      "metadata": {
        "id": "p2SuXFuPDzZs"
      },
      "source": [
        "## Part 2"
      ]
    },
    {
      "cell_type": "code",
      "metadata": {
        "id": "WQmvk54W130g"
      },
      "source": [
        "import requests\n",
        "import json"
      ],
      "execution_count": null,
      "outputs": []
    },
    {
      "cell_type": "code",
      "metadata": {
        "id": "1pVXQD6ziI9U"
      },
      "source": [
        "api_key_watson = 'RS-8eevEfLig_LWpw8JEeZpTE6drExYOE-12-I_WfjNi'\n",
        "URL = 'https://api.us-south.natural-language-understanding.watson.cloud.ibm.com/instances/03696d8e-e342-43ef-8edb-a8b8981cdb94'"
      ],
      "execution_count": null,
      "outputs": []
    },
    {
      "cell_type": "markdown",
      "metadata": {
        "id": "miKVEL3c9nEV"
      },
      "source": [
        ""
      ]
    },
    {
      "cell_type": "code",
      "metadata": {
        "id": "MaAccxzF2Jj9"
      },
      "source": [
        "def processURL(analyze_url):\n",
        "  endpoint_ibm_watson = f\"{URL}/v1/analyze\"\n",
        "  params = {\n",
        "      'version': '2020-08-01',\n",
        "  }\n",
        "  headers = {\n",
        "      'Content-Type': 'application/json',\n",
        "  }\n",
        "  watson_options = {\n",
        "      'url': analyze_url,\n",
        "      'features': {\n",
        "          'entities': {\n",
        "              'sentiment': True,\n",
        "              'emotion': True,\n",
        "              'limit': 10\n",
        "          }\n",
        "      }\n",
        "  }\n",
        "  username = 'apikey'\n",
        "  password = api_key_watson\n",
        "\n",
        "  resp = requests.post(endpoint_ibm_watson,\n",
        "                       data = json.dumps(watson_options),\n",
        "                       headers = headers,\n",
        "                       params = params,\n",
        "                       auth = (username, password)\n",
        "                       )\n",
        "  return resp.json()"
      ],
      "execution_count": null,
      "outputs": []
    },
    {
      "cell_type": "code",
      "metadata": {
        "id": "7OkU-FfK3S1O"
      },
      "source": [
        "def extractEntities(url, source):\n",
        "  data = processURL(url)\n",
        "\n",
        "  entity_list = []\n",
        "  for entity in data['entities']:\n",
        "    entity_list.append({\n",
        "        'name': entity['text'],\n",
        "        'relevance': entity['relevance'],\n",
        "        'sentiment': entity['sentiment']['score'],\n",
        "        'url': url,\n",
        "        'source': source\n",
        "    })\n",
        "  return entity_list"
      ],
      "execution_count": null,
      "outputs": []
    },
    {
      "cell_type": "code",
      "metadata": {
        "colab": {
          "base_uri": "https://localhost:8080/"
        },
        "id": "4U8ZrYZi4_6A",
        "outputId": "cab186ae-39c5-4cb5-8b87-4c1617a03ca7"
      },
      "source": [
        "url = 'https://www.wsj.com/articles/biden-to-sign-bill-making-juneteenth-a-federal-holiday-11623944038?mod=politics_lead_pos2'\n",
        "source = 'The Wall Street Journal;'\n",
        "extractEntities(url, source)"
      ],
      "execution_count": null,
      "outputs": [
        {
          "output_type": "execute_result",
          "data": {
            "text/plain": [
              "[{'name': 'President Biden',\n",
              "  'relevance': 0.950251,\n",
              "  'sentiment': -0.776928,\n",
              "  'source': 'The Wall Street Journal;',\n",
              "  'url': 'https://www.wsj.com/articles/biden-to-sign-bill-making-juneteenth-a-federal-holiday-11623944038?mod=politics_lead_pos2'},\n",
              " {'name': 'U.S. Office of Personnel Management',\n",
              "  'relevance': 0.822278,\n",
              "  'sentiment': -0.261008,\n",
              "  'source': 'The Wall Street Journal;',\n",
              "  'url': 'https://www.wsj.com/articles/biden-to-sign-bill-making-juneteenth-a-federal-holiday-11623944038?mod=politics_lead_pos2'},\n",
              " {'name': 'Mr. Biden',\n",
              "  'relevance': 0.615633,\n",
              "  'sentiment': 0.752289,\n",
              "  'source': 'The Wall Street Journal;',\n",
              "  'url': 'https://www.wsj.com/articles/biden-to-sign-bill-making-juneteenth-a-federal-holiday-11623944038?mod=politics_lead_pos2'},\n",
              " {'name': 'Opal Lee',\n",
              "  'relevance': 0.546577,\n",
              "  'sentiment': 0.752289,\n",
              "  'source': 'The Wall Street Journal;',\n",
              "  'url': 'https://www.wsj.com/articles/biden-to-sign-bill-making-juneteenth-a-federal-holiday-11623944038?mod=politics_lead_pos2'},\n",
              " {'name': 'Texas',\n",
              "  'relevance': 0.398338,\n",
              "  'sentiment': 0.752289,\n",
              "  'source': 'The Wall Street Journal;',\n",
              "  'url': 'https://www.wsj.com/articles/biden-to-sign-bill-making-juneteenth-a-federal-holiday-11623944038?mod=politics_lead_pos2'},\n",
              " {'name': 'WASHINGTON',\n",
              "  'relevance': 0.360447,\n",
              "  'sentiment': -0.776928,\n",
              "  'source': 'The Wall Street Journal;',\n",
              "  'url': 'https://www.wsj.com/articles/biden-to-sign-bill-making-juneteenth-a-federal-holiday-11623944038?mod=politics_lead_pos2'},\n",
              " {'name': 'Maj. Gen. Gordon Granger',\n",
              "  'relevance': 0.336253,\n",
              "  'sentiment': 0,\n",
              "  'source': 'The Wall Street Journal;',\n",
              "  'url': 'https://www.wsj.com/articles/biden-to-sign-bill-making-juneteenth-a-federal-holiday-11623944038?mod=politics_lead_pos2'},\n",
              " {'name': 'U.S.',\n",
              "  'relevance': 0.309969,\n",
              "  'sentiment': -0.776928,\n",
              "  'source': 'The Wall Street Journal;',\n",
              "  'url': 'https://www.wsj.com/articles/biden-to-sign-bill-making-juneteenth-a-federal-holiday-11623944038?mod=politics_lead_pos2'},\n",
              " {'name': 'Twitter',\n",
              "  'relevance': 0.297542,\n",
              "  'sentiment': -0.261008,\n",
              "  'source': 'The Wall Street Journal;',\n",
              "  'url': 'https://www.wsj.com/articles/biden-to-sign-bill-making-juneteenth-a-federal-holiday-11623944038?mod=politics_lead_pos2'},\n",
              " {'name': 'Senate',\n",
              "  'relevance': 0.281889,\n",
              "  'sentiment': 0,\n",
              "  'source': 'The Wall Street Journal;',\n",
              "  'url': 'https://www.wsj.com/articles/biden-to-sign-bill-making-juneteenth-a-federal-holiday-11623944038?mod=politics_lead_pos2'}]"
            ]
          },
          "metadata": {
            "tags": []
          },
          "execution_count": 17
        }
      ]
    },
    {
      "cell_type": "markdown",
      "metadata": {
        "id": "lxtccXx6EBEy"
      },
      "source": [
        "## Part 3"
      ]
    },
    {
      "cell_type": "code",
      "metadata": {
        "id": "H56A9jAT5Zmu"
      },
      "source": [
        "import requests "
      ],
      "execution_count": null,
      "outputs": []
    },
    {
      "cell_type": "code",
      "metadata": {
        "id": "1c70reTz57sI"
      },
      "source": [
        "newsapi_key = 'e609db865d2d45f0981b5f5fd984e4aa'\n",
        "endpoint = 'https://newsapi.org/v2/top-headlines'\n",
        "parameters = {\n",
        "    'country': 'us',\n",
        "    'category': 'business',\n",
        "    'apiKey': newsapi_key,\n",
        "    'pagesize': 100\n",
        "}\n",
        "resp = requests.get(endpoint, params = parameters)\n",
        "data = resp.json()"
      ],
      "execution_count": null,
      "outputs": []
    },
    {
      "cell_type": "code",
      "metadata": {
        "id": "Upl7bagX6g77",
        "colab": {
          "base_uri": "https://localhost:8080/"
        },
        "outputId": "3e70a6c4-d527-430c-ba58-851e5665c8ee"
      },
      "source": [
        "if (resp.status_code ==200):\n",
        "  print(\"Everything as ok\", resp.status_code)\n",
        "else:\n",
        "  print(\"There was a problem:\", resp.status_code)"
      ],
      "execution_count": null,
      "outputs": [
        {
          "output_type": "stream",
          "text": [
            "Everything as ok 200\n"
          ],
          "name": "stdout"
        }
      ]
    },
    {
      "cell_type": "code",
      "metadata": {
        "id": "ipGdaSVC6rh0",
        "colab": {
          "base_uri": "https://localhost:8080/"
        },
        "outputId": "c5007775-0afd-4bfd-e282-0599cc6253f4"
      },
      "source": [
        "data = resp.json()\n",
        "data"
      ],
      "execution_count": null,
      "outputs": [
        {
          "output_type": "execute_result",
          "data": {
            "text/plain": [
              "{'articles': [{'author': 'Jon Brodkin',\n",
              "   'content': \"32 with 26 posters participating\\r\\nThe nation's largest phone companies have met a federal deadline to deploy a new anti-robocall technology, but unwanted calls and scams will continue to be an annoyi… [+7916 chars]\",\n",
              "   'description': 'Large carriers deploy STIR/SHAKEN. Small carriers, old landlines are still problems.',\n",
              "   'publishedAt': '2021-07-02T19:38:58Z',\n",
              "   'source': {'id': 'ars-technica', 'name': 'Ars Technica'},\n",
              "   'title': 'US hits anti-robocall milestone but annoying calls won’t stop any time soon - Ars Technica',\n",
              "   'url': 'https://arstechnica.com/tech-policy/2021/07/us-hits-anti-robocall-milestone-but-annoying-calls-wont-stop-any-time-soon/',\n",
              "   'urlToImage': 'https://cdn.arstechnica.net/wp-content/uploads/2021/04/robocalls-are-really-annoying-760x380.jpg'},\n",
              "  {'author': 'David Welch and Gabrielle Coppola',\n",
              "   'content': '(Bloomberg) -- Lordstown Motors Corp. is being probed by the U.S. Justice Department in relation to claims that the company exaggerated potential sales of its electric Endurance pickup truck, a perso… [+4146 chars]',\n",
              "   'description': '(Bloomberg) -- Lordstown Motors Corp. is being probed by the U.S. Justice Department in relation to claims that the company exaggerated potential sales of...',\n",
              "   'publishedAt': '2021-07-02T19:10:09Z',\n",
              "   'source': {'id': None, 'name': 'Yahoo Entertainment'},\n",
              "   'title': 'Lordstown Motors Tumbles as Justice Department Begins Probe - Yahoo Finance',\n",
              "   'url': 'https://finance.yahoo.com/news/lordstown-motors-tumbles-report-justice-162236981.html',\n",
              "   'urlToImage': 'https://s.yimg.com/uu/api/res/1.2/g3pR8.7X2gVLy2Z2UlT_kg--~B/aD0xNDExO3c9MjAwMDthcHBpZD15dGFjaHlvbg--/https://media.zenfs.com/en/bloomberg_markets_842/0982104ab4b2858864c0c14da9ddbfa9'},\n",
              "  {'author': 'Jeff Cox',\n",
              "   'content': 'Federal Reserve Chairman Jerome Powell met in May with Brian Armstrong, the CEO of cryptocurrency exchange Coinbase, central bank records show.\\r\\nThe gathering happened May 11 and was one of only two … [+2233 chars]',\n",
              "   'description': 'Federal Reserve Chairman Jerome Powell met in May with Brian Armstrong, the CEO of cryptocurrency exchange Coinbase, central bank records show.',\n",
              "   'publishedAt': '2021-07-02T18:55:08Z',\n",
              "   'source': {'id': None, 'name': 'CNBC'},\n",
              "   'title': 'Fed Chair Powell met with Coinbase CEO Brian Armstrong in May - CNBC',\n",
              "   'url': 'https://www.cnbc.com/2021/07/02/fed-chair-powell-met-with-coinbase-ceo-brian-armstrong-in-may.html',\n",
              "   'urlToImage': 'https://image.cnbcfm.com/api/v1/image/106868259-1618418339934-gettyimages-1144022591-775341711SF057_Consensus_20.jpeg?v=1618418400'},\n",
              "  {'author': 'Thomas Franck',\n",
              "   'content': 'Hester Peirce, commissioner of the U.S. Securities and Exchange Commission (SEC), center, listens during a House Financial Services Committee hearing in Washington, D.C., U.S., on Tuesday, Sept. 24, … [+6471 chars]',\n",
              "   'description': 'A bitcoin ETF is long overdue, SEC Commissioner Hester Peirce said.',\n",
              "   'publishedAt': '2021-07-02T18:48:05Z',\n",
              "   'source': {'id': None, 'name': 'CNBC'},\n",
              "   'title': 'The SEC should have approved a bitcoin ETF a long time ago, regulator Peirce says - CNBC',\n",
              "   'url': 'https://www.cnbc.com/2021/07/02/bitcoin-etf-should-be-approved-already-sec-regulator-says.html',\n",
              "   'urlToImage': 'https://image.cnbcfm.com/api/v1/image/106906024-1625228674537-gettyimages-1170765445-HOUSE_SEC.jpeg?v=1625228700'},\n",
              "  {'author': 'Kate Conger',\n",
              "   'content': 'Some of those changes are beginning to look like they may become permanent, because consumers arent letting go of their newfound fondness for getting food delivered to their front doors. In a recent … [+1089 chars]',\n",
              "   'description': 'As in-person dining returns, home delivery is holding up. For restaurants, services like DoorDash and Uber Eats could become a permanent part of their business.',\n",
              "   'publishedAt': '2021-07-02T18:10:43Z',\n",
              "   'source': {'id': None, 'name': 'New York Times'},\n",
              "   'title': 'How the Restaurant Delivery Business Holds Strong as In-Person Dining Returns - The New York Times',\n",
              "   'url': 'https://www.nytimes.com/2021/07/02/technology/restaurant-delivery-takeout-orders-covid-coronavirus.html',\n",
              "   'urlToImage': 'https://static01.nyt.com/images/2021/06/28/business/00delivery-boom1/00delivery-boom1-facebookJumbo.jpg'},\n",
              "  {'author': 'Sapna Maheshwari',\n",
              "   'content': 'With more than 30 locations in Manhattan and many customers who order salads digitally, Sweetgreen has had insight into the movements of its customers, even if they are not yet fully back to eating a… [+1516 chars]',\n",
              "   'description': 'A favorite lunchtime destination of many urban office workers weathered the pandemic thanks to its digital savvy. It’s confident more people will be returning to their offices soon.',\n",
              "   'publishedAt': '2021-07-02T18:10:19Z',\n",
              "   'source': {'id': None, 'name': 'New York Times'},\n",
              "   'title': 'At Sweetgreen, Seeing the Future of Work in a Desk Salad - The New York Times',\n",
              "   'url': 'https://www.nytimes.com/2021/07/02/business/sweetgreen-return-to-office.html',\n",
              "   'urlToImage': 'https://static01.nyt.com/images/2021/06/22/business/00sweetgreen-1/00sweetgreen-1-facebookJumbo-v2.jpg'},\n",
              "  {'author': 'Brian Fung, CNN Business',\n",
              "   'content': None,\n",
              "   'description': 'The Federal Trade Commission said Friday it has sued and settled with the technology giant Broadcom over allegations that the company sought to monopolize the supply of semiconductor chips.',\n",
              "   'publishedAt': '2021-07-02T17:59:00Z',\n",
              "   'source': {'id': 'cnn', 'name': 'CNN'},\n",
              "   'title': 'FTC charges Broadcom with monopolizing chip industry - CNN ',\n",
              "   'url': 'https://www.cnn.com/2021/07/02/tech/ftc-broadcom/index.html',\n",
              "   'urlToImage': 'https://cdn.cnn.com/cnnnext/dam/assets/210702133931-broadcom-office-0603-super-tease.jpg'},\n",
              "  {'author': '6abc Digital Staff',\n",
              "   'content': 'LEVITTOWN, Pennsylvania (WPVI) -- Pennsylvania Lottery officials announced Friday that the jackpot-winning Mega Millions ticket from the May 21 drawing has been claimed. The jackpot had an annuity va… [+932 chars]',\n",
              "   'description': 'Pennsylvania Lottery officials announced Friday that the jackpot-winning Mega Millions ticket from the May 21, 2021 drawing has been claimed.',\n",
              "   'publishedAt': '2021-07-02T17:34:30Z',\n",
              "   'source': {'id': None, 'name': 'WPVI-TV'},\n",
              "   'title': 'Mega Millions: 5 winners claim $516M jackpot ticket sold at 7-Eleven in Levittown, Bucks County - WPVI-TV',\n",
              "   'url': 'https://6abc.com/winning-mega-millions-tickets-7-eleven-levittown-pennsylvania-lottery-number/10853845/',\n",
              "   'urlToImage': 'https://cdn.abcotvs.com/dip/images/10853945_070221-wpvi-bucks-county-lotter-winner-lawyers-img.jpg?w=1600'},\n",
              "  {'author': 'Lorie Konish',\n",
              "   'content': 'Figures from the IRS show who has received money from the third stimulus checks for up to $1,400 per person and there are some surprises.\\r\\nIn fact, some people with adjusted gross incomes above $200,… [+3683 chars]',\n",
              "   'description': 'To get a third stimulus check, you had to meet certain income thresholds to qualify. Yet some people with incomes above $200,000 also received the money.',\n",
              "   'publishedAt': '2021-07-02T17:31:34Z',\n",
              "   'source': {'id': None, 'name': 'CNBC'},\n",
              "   'title': 'IRS data shows just who got $1,400 stimulus payments. Some people with higher incomes received checks - CNBC',\n",
              "   'url': 'https://www.cnbc.com/2021/07/02/irs-data-shows-some-high-income-people-received-1400-checks.html',\n",
              "   'urlToImage': 'https://image.cnbcfm.com/api/v1/image/106873194-1619203834336-gettyimages-1295543516-chu_4520-stimuluscheck.jpeg?v=1619709309'},\n",
              "  {'author': 'Grace Kay',\n",
              "   'content': 'Fast-food workers are struggling to beat the heat as many areas in the US continue to face record temperatures.\\r\\n\"It was uncomfortable and hard to breathe,\" Laura Pozos, a Los Angeles McDonald\\'s work… [+3632 chars]',\n",
              "   'description': '\"It was uncomfortable and hard to breath,\" one McDonald\\'s worker told Insider.',\n",
              "   'publishedAt': '2021-07-02T17:03:33Z',\n",
              "   'source': {'id': 'business-insider', 'name': 'Business Insider'},\n",
              "   'title': \"Workers stage walkouts at McDonald's, Jack in the Box amid heat wave - Business Insider\",\n",
              "   'url': 'https://www.businessinsider.com/walk-outs-mcdonalds-jack-in-the-box-over-heat-wave-2021-7',\n",
              "   'urlToImage': 'https://i.insider.com/60df30d64a93e20019129a8a?width=1200&format=jpeg'},\n",
              "  {'author': 'Daniella Genovese',\n",
              "   'content': 'A passenger stuck on a canceled American Airlines flight out of Charlotte was arrested Thursday after fleeing the plane through the exit window.\\xa0\\r\\nFlight 2396 traveling from Charlotte to Thurgood Mar… [+2267 chars]',\n",
              "   'description': 'Flight 2396, traveling from Charlotte to Thurgood Marshall Baltimore-Washington International Airport in Maryland, was canceled Thursday even after passengers had already boarded the plane.',\n",
              "   'publishedAt': '2021-07-02T16:59:43Z',\n",
              "   'source': {'id': None, 'name': 'Fox Business'},\n",
              "   'title': 'American Airlines passenger uses emergency exit to jump onto tarmac after flight delayed, canceled - Fox Business',\n",
              "   'url': 'https://www.foxbusiness.com/lifestyle/passenger-plane-exit-window-tarmac-delay-cancellation-arrest',\n",
              "   'urlToImage': 'https://a57.foxnews.com/static.foxbusiness.com/foxbusiness.com/content/uploads/2020/08/0/0/American-Airlines-iStock-006.jpg?ve=1&tl=1'},\n",
              "  {'author': 'Theo Wayt',\n",
              "   'content': 'Elon Musk has anointed an heir to Dogecoin and its called Baby Doge.\\r\\nThe billionaire Tesla CEO gave a shout-out to the month-old spinoff of the canine-themed cryptocurrency on Twitter Thursday morni… [+3411 chars]',\n",
              "   'description': 'Elon Musk has anointed an heir to Dogecoin — and it’s called Baby Doge.',\n",
              "   'publishedAt': '2021-07-02T16:46:00Z',\n",
              "   'source': {'id': None, 'name': 'New York Post'},\n",
              "   'title': 'Baby Doge? What to know about the Dogecoin spinoff that Elon Musk is hyping - New York Post ',\n",
              "   'url': 'https://nypost.com/2021/07/02/what-you-need-to-know-about-baby-doge-the-dogecoin-spinoff/',\n",
              "   'urlToImage': 'https://nypost.com/wp-content/uploads/sites/2/2021/07/doge-coin-02.jpg?quality=90&strip=all&w=1200'},\n",
              "  {'author': 'Ann Schmidt',\n",
              "   'content': 'Its summer, which means were in peak hot dog season.\\xa0\\r\\nIn fact, as Americans celebrate Independence Day this weekend, they will also be enjoying \"the single largest hot dog day of the year,\" Eric Mit… [+5358 chars]',\n",
              "   'description': 'Here’s what you need to know about hot dogs ahead of “the single largest hot dog day of the year.”',\n",
              "   'publishedAt': '2021-07-02T16:36:15Z',\n",
              "   'source': {'id': 'fox-news', 'name': 'Fox News'},\n",
              "   'title': 'Hot dogs: 5 little-known facts ahead of July 4 - Fox News',\n",
              "   'url': 'https://www.foxnews.com/food-drink/hot-dogs-little-known-facts',\n",
              "   'urlToImage': 'https://static.foxnews.com/foxnews.com/content/uploads/2021/07/Chicago-hot-dog-iStock.jpg'},\n",
              "  {'author': 'Tanaya Macheel',\n",
              "   'content': \"Check out the companies making headlines in midday trading.\\r\\nVirgin Galactic The space tourism company's stock is up 3% after announcing founder Sir Richard Branson will be aboard its next spacefligh… [+3211 chars]\",\n",
              "   'description': 'These are the stocks posting the largest moves in midday trading.',\n",
              "   'publishedAt': '2021-07-02T16:32:27Z',\n",
              "   'source': {'id': None, 'name': 'CNBC'},\n",
              "   'title': 'Stocks making the biggest moves midday: Krispy Kreme, Virgin Galactic, IBM, Didi and more - CNBC',\n",
              "   'url': 'https://www.cnbc.com/2021/07/02/stocks-making-the-biggest-moves-midday-krispy-kreme-virgin-galactic-ibm-didi-and-more.html',\n",
              "   'urlToImage': 'https://image.cnbcfm.com/api/v1/image/105967905-1560464964825krispykremetimessquareflagship_rendering_ext_homemode.jpg?v=1560539277'},\n",
              "  {'author': 'Tom Popomaronis',\n",
              "   'content': \"What does it take to achieve great success in your career?\\r\\nAccording to Jeff Bezos, one of the most important things you need to do is to build trust and maintain a good reputation. But it isn't eas… [+3388 chars]\",\n",
              "   'description': \"To be successful at anything, according to Amazon's Jeff Bezos, one of the most important things you must do is build trust and develop a good reputation. It's simple, but not easy, the billionaire said during a 2019 fireside chat. Here's how he does it.\",\n",
              "   'publishedAt': '2021-07-02T16:18:09Z',\n",
              "   'source': {'id': None, 'name': 'CNBC'},\n",
              "   'title': \"Jeff Bezos on his 4-step method for building trust and reputation: 'It's really that simple'—and research backs it up - CNBC\",\n",
              "   'url': 'https://www.cnbc.com/2021/07/02/jeff-bezos-says-this-is-how-you-earn-trust-and-build-reputation-it-really-is-that-simple.html',\n",
              "   'urlToImage': 'https://image.cnbcfm.com/api/v1/image/106569797-1591649109683gettyimages-1032942656.jpeg?v=1619769761'},\n",
              "  {'author': 'Anne Shannon',\n",
              "   'content': 'A lot of people will be traveling over the Fourth of July weekend. Experts say it could be one of the biggest travel weekends on record.\\r\\nAAA is expecting 47.7 million Americans to travel this holida… [+743 chars]',\n",
              "   'description': 'Travel this year will reach the second-highest Independence Day volume, according to AAA.',\n",
              "   'publishedAt': '2021-07-02T16:16:00Z',\n",
              "   'source': {'id': None, 'name': 'WGAL Susquehanna Valley Pa.'},\n",
              "   'title': 'AAA: Nearly 48 million Americans expected to travel over Fourth of July weekend - WGAL Susquehanna Valley Pa.',\n",
              "   'url': 'https://www.wgal.com/article/aaa-nearly-48-million-americans-expected-to-travel-over-fourth-of-july-weekend-2021/36914933',\n",
              "   'urlToImage': 'https://kubrick.htvapps.com/vidthumb/images/fourth-of-july-travel-1625242387.jpg?crop=1xw:1xh;center,top&resize=1200:*'},\n",
              "  {'author': 'Phoebe Wall Howard, Detroit Free Press',\n",
              "   'content': 'Despite having relatively barren supplies on\\xa0dealer lots and dismal\\xa0sales in June,\\xa0Ford Motor Co. revealed on Friday a dramatic plan to pivot.\\r\\nFord is getting a\\xa0new supply of semiconductor chips and… [+6289 chars]',\n",
              "   'description': 'Ford planning to chip and ship F-150 backlog, Free Press confirms',\n",
              "   'publishedAt': '2021-07-02T16:08:56Z',\n",
              "   'source': {'id': None, 'name': 'Detroit Free Press'},\n",
              "   'title': 'Ford is about to ship thousands of F-150s to dealers as pickup demand remains high - Detroit Free Press',\n",
              "   'url': 'https://www.freep.com/story/money/cars/ford/2021/07/02/ford-sales-f-150-semiconductor-chip-shortage/7836909002/',\n",
              "   'urlToImage': 'https://www.gannett-cdn.com/presto/2021/07/02/PDTF/d40475d6-c317-49ad-8b64-523fc3d20e66-Mark_Restum.jpg?auto=webp&crop=3377,1900,x0,y0&format=pjpg&width=1200'},\n",
              "  {'author': 'Zoe Schiffer',\n",
              "   'content': 'Nearly 90 percent of respondents said flexible options are important to them\\r\\nIllustration by Alex Castro / The Verge\\r\\nAn internal survey designed by Apple employees shows respondents want the option… [+2556 chars]',\n",
              "   'description': 'The survey was a grassroots effort from Apple employees. It shows nearly 90 percent of respondents want the option to work from home.',\n",
              "   'publishedAt': '2021-07-02T16:00:32Z',\n",
              "   'source': {'id': 'the-verge', 'name': 'The Verge'},\n",
              "   'title': 'Internal Apple survey shows concern about hybrid work model - The Verge',\n",
              "   'url': 'https://www.theverge.com/2021/7/2/22560586/apple-hybrid-work-internal-survey-tim-cook',\n",
              "   'urlToImage': 'https://cdn.vox-cdn.com/thumbor/W4T_cOXSKByy6vwN8c-FcH-1S4A=/0x146:2040x1214/fit-in/1200x630/cdn.vox-cdn.com/uploads/chorus_asset/file/11477051/acastro_180604_1777_apple_wwdc_0003.jpg'},\n",
              "  {'author': \"Sean O'Kane\",\n",
              "   'content': 'The Audi E-Tron GT is also affected by the same 12-volt battery issue\\r\\nPhoto by Sean OKane / The Verge\\r\\nPorsche is recalling its first EV, the Taycan, to fix an issue where some cars suddenly lose po… [+3641 chars]',\n",
              "   'description': 'A problem with the 12-volt battery in Porsche’s first electric car can cause a sudden loss of power while driving, so the German automaker is recalling the Taycan. Owners will have to bring their vehicles to a dealer for an hourlong fix.',\n",
              "   'publishedAt': '2021-07-02T15:57:09Z',\n",
              "   'source': {'id': 'the-verge', 'name': 'The Verge'},\n",
              "   'title': 'Porsche recalls Taycans over sudden power loss problem - The Verge',\n",
              "   'url': 'https://www.theverge.com/2021/7/2/22559051/porsche-taycan-ev-recall-12-volt-audi-etron-gt',\n",
              "   'urlToImage': 'https://cdn.vox-cdn.com/thumbor/zaguU2MVv6A37Xc7Dp-osdT0Z2o=/0x146:2040x1214/fit-in/1200x630/cdn.vox-cdn.com/uploads/chorus_asset/file/19166646/porsche_taycan_0853.jpg'},\n",
              "  {'author': 'Audrey Conklin',\n",
              "   'content': 'Sen. Ron Johnson, R-Wis., has sent letters to the CEOs of Pfizer and Moderna seeking answers about adverse reactions to the COVID-19\\r\\nvaccine\\r\\n following a June 28 press conference with affected indi… [+6680 chars]',\n",
              "   'description': 'Sen. Ron Johnson, R-Wis., has sent letters to the CEOs of Pfizer and Moderna seeking answers about adverse reactions to the COVID-19 vaccine following a June 28 press conference with affected individuals',\n",
              "   'publishedAt': '2021-07-02T15:44:52Z',\n",
              "   'source': {'id': 'fox-news', 'name': 'Fox News'},\n",
              "   'title': 'Sen. Ron Johnson sends letters to Moderna, Pfizer CEOs seeking answers about COVID-19 vaccines - Fox News',\n",
              "   'url': 'https://www.foxnews.com/politics/ron-johnson-letters-moderna-pfizer-vaccine',\n",
              "   'urlToImage': 'https://static.foxnews.com/foxnews.com/content/uploads/2021/07/Sen-1.jpg'},\n",
              "  {'author': 'Ron Miller',\n",
              "   'content': 'In a surprise announcement today, IBM announced that Jim Whitehurst, who came over in the Red Hat deal, would be stepping down as company president just 14 months after taking over in that role.\\r\\nIBM… [+2266 chars]',\n",
              "   'description': 'In a surprise announcement today, IBM announced that Jim Whitehurst, who came over in the Red Hat deal, would be stepping down as company president just 14 months after taking over in that role. IBM didn’t give a lot of details as to why he was stepping away,…',\n",
              "   'publishedAt': '2021-07-02T15:33:34Z',\n",
              "   'source': {'id': 'techcrunch', 'name': 'TechCrunch'},\n",
              "   'title': 'Jim Whitehurst steps down as president at IBM just 14 months after taking role - TechCrunch',\n",
              "   'url': 'http://techcrunch.com/2021/07/02/jim-whitehurst-steps-down-as-president-at-ibm-just-14-months-after-taking-role/',\n",
              "   'urlToImage': 'https://techcrunch.com/wp-content/uploads/2021/07/GettyImages-1055028402.jpg?w=600'},\n",
              "  {'author': 'Zacks Equity Research',\n",
              "   'content': 'Waters Corporation WAT has unveiled the TRIOS AutoPilot software.\\r\\nThe instrument software which is ideal for thermal analyzers is based on Alphabet GOOGL Googles visual programming interface, Blockl… [+3781 chars]',\n",
              "   'description': 'Waters (WAT) strengthens the product portfolio by introducing TRIOS AutoPilot software for the thermal analyzer product line.',\n",
              "   'publishedAt': '2021-07-02T15:26:03Z',\n",
              "   'source': {'id': None, 'name': 'Yahoo Entertainment'},\n",
              "   'title': 'Waters (WAT) Boosts Thermal Analysis With Latest Software - Yahoo Finance',\n",
              "   'url': 'https://finance.yahoo.com/news/waters-wat-boosts-thermal-analysis-152603247.html',\n",
              "   'urlToImage': 'https://s.yimg.com/uu/api/res/1.2/hV9HqOxsOkZmaD4xyKkWQw--~B/aD00MDA7dz02MzU7YXBwaWQ9eXRhY2h5b24-/https://media.zenfs.com/en/zacks.com/abdb684baba7aff1209cd5ff357d8a0e'},\n",
              "  {'author': 'Usman Kabir',\n",
              "   'content': \"In this article, we discuss the 10 best SPACs to buy according to David Einhorn's Greenlight Capital. If you want to skip our detailed analysis of these SPACs, go directly to the 5 Best SPACs to Buy … [+11893 chars]\",\n",
              "   'description': 'In this article, we discuss the 10 best SPACs to buy according to David Einhorn’s Greenlight Capital. If you want to skip our detailed analysis of these...',\n",
              "   'publishedAt': '2021-07-02T15:15:14Z',\n",
              "   'source': {'id': None, 'name': 'Yahoo Entertainment'},\n",
              "   'title': '10 Best SPACs to Buy According to David Einhorn’s Greenlight Capital - Yahoo Finance',\n",
              "   'url': 'https://finance.yahoo.com/news/10-best-spacs-buy-according-151514054.html',\n",
              "   'urlToImage': 'https://s.yimg.com/uu/api/res/1.2/E.igx0ujkU2R1lLXHbYl4A--~B/aD02MDA7dz00NTA7YXBwaWQ9eXRhY2h5b24-/https://media.zenfs.com/en/insidermonkey.com/c41ccf7123916b75b50289f0375de8df'},\n",
              "  {'author': 'Mollie Mansfield',\n",
              "   'content': 'AN LAX terminal was evacuated after a \"suspicious\" package was found on Friday.\\r\\nA bomb squad was reportedly on the scene alongside police early this morning.\\r\\nLAX was evacuated on FridayCredit: Fox … [+687 chars]',\n",
              "   'description': '',\n",
              "   'publishedAt': '2021-07-02T15:04:00Z',\n",
              "   'source': {'id': None, 'name': 'The-sun.com'},\n",
              "   'title': 'LAX terminal evacuated after ‘suspicious package’ found as bomb squad on scene... - The US Sun',\n",
              "   'url': 'https://www.the-sun.com/news/3204427/lax-terminal-evacuated-suspicious-package-bomb-squad/',\n",
              "   'urlToImage': 'https://www.the-sun.com/wp-content/uploads/sites/6/2021/07/Screenshot-Capture-2021-07-02-11-00-18.jpg?strip=all&quality=100&w=587&h=326&crop=1'},\n",
              "  {'author': 'Moira Ritter, CNN Business',\n",
              "   'content': None,\n",
              "   'description': \"Didi's stock tumbled Friday after China's Cyberspace Administration suspended the registration of new users from the company.\",\n",
              "   'publishedAt': '2021-07-02T14:58:00Z',\n",
              "   'source': {'id': 'cnn', 'name': 'CNN'},\n",
              "   'title': 'Didi stock tumbles after China suspends registration of new users - CNN',\n",
              "   'url': 'https://www.cnn.com/2021/07/02/investing/didi-china-stock/index.html',\n",
              "   'urlToImage': 'https://cdn.cnn.com/cnnnext/dam/assets/210702085506-didi-app-china-07-02-2021-super-tease.jpg'},\n",
              "  {'author': 'Ciara Linnane',\n",
              "   'content': 'A 17% increase in cases of the coronavirus-borne illness COVID-19 in California in the past 14 days has increased concerns about the highly infectious delta variant of the virus, which is expected to… [+5224 chars]',\n",
              "   'description': 'Delta variant is now in 98 countries and is ‘spreading quickly,’ says WHO director-general',\n",
              "   'publishedAt': '2021-07-02T14:58:00Z',\n",
              "   'source': {'id': None, 'name': 'MarketWatch'},\n",
              "   'title': 'Rising COVID-19 cases in California highlight risks of delta variant, as WHO head warns world in dangerous period of pandemic - MarketWatch',\n",
              "   'url': 'https://www.marketwatch.com/story/rising-covid-19-cases-in-california-highlight-risks-of-delta-variant-as-who-head-warns-world-in-dangerous-period-of-pandemic-11625237936',\n",
              "   'urlToImage': 'https://images.mktw.net/im-363824/social'},\n",
              "  {'author': 'Andrew J. Hawkins',\n",
              "   'content': 'The new, high-end version of the Model S had just started reaching customers\\r\\n@meiselasb\\r\\nA high-end Tesla Model S Plaid caught fire Tuesday night in Haverford, Pennsylvania, briefly trapping the dri… [+3970 chars]',\n",
              "   'description': 'A Tesla Model S Plaid, the company’s newly released, high-end version of its original sedan, caught fire in Pennsylvania. The driver was briefly trapped inside. There were no injuries reported.',\n",
              "   'publishedAt': '2021-07-02T14:55:26Z',\n",
              "   'source': {'id': 'the-verge', 'name': 'The Verge'},\n",
              "   'title': 'A Tesla Model S Plaid caught fire in Pennsylvania, briefly trapping the driver inside - The Verge',\n",
              "   'url': 'https://www.theverge.com/2021/7/2/22560662/tesla-model-s-plaid-fire-driver-battery-pennsylvania',\n",
              "   'urlToImage': 'https://cdn.vox-cdn.com/thumbor/09T0guS6D4Ixic_dOCcFZi94zfc=/0x320:1536x1124/fit-in/1200x630/cdn.vox-cdn.com/uploads/chorus_asset/file/22695541/E5ObJckVoAMsr4n.jpeg'},\n",
              "  {'author': 'Ian Thomas',\n",
              "   'content': 'Following a breakthrough trial where gene-editing technology CRISPR completed its first systematic delivery as medicine to a human body, Intellia Therapeutics CEO John Leonard said he hopes the gene … [+3776 chars]',\n",
              "   'description': 'The trial success of CRISPR gene-editing technology has broad applications to treating other diseases, Intellia Therapeutics CEO John Leonard said.',\n",
              "   'publishedAt': '2021-07-02T14:45:48Z',\n",
              "   'source': {'id': None, 'name': 'CNBC'},\n",
              "   'title': 'CRISPR gene-editing treatment could reach patients ‘very, very soon’: Intellia CEO - CNBC',\n",
              "   'url': 'https://www.cnbc.com/2021/07/02/crispr-gene-editing-could-reach-patients-very-soon-intellia-ceo.html',\n",
              "   'urlToImage': 'https://image.cnbcfm.com/api/v1/image/106906134-1625237040209-gettyimages-975892154-urn_newsml_dpa_com_20090101_180523-99-417865-2.jpeg?v=1625237085'},\n",
              "  {'author': 'Suzi Ring',\n",
              "   'content': '(Bloomberg) -- GlaxoSmithKline Plc agreed to pay U.S. biotech Alector Inc. as much as $2.2 billion to develop therapies targeting diseases such as Parkinsons and Alzheimers, the latest step by the U.… [+2859 chars]',\n",
              "   'description': '(Bloomberg) -- GlaxoSmithKline Plc agreed to pay U.S. biotech Alector Inc. as much as $2.2 billion to develop therapies targeting diseases such as...',\n",
              "   'publishedAt': '2021-07-02T14:41:06Z',\n",
              "   'source': {'id': None, 'name': 'Yahoo Entertainment'},\n",
              "   'title': 'Glaxo Reaches $2.2 Billion Dementia Drug Deal With Alector - Yahoo Finance',\n",
              "   'url': 'https://finance.yahoo.com/news/glaxo-reaches-2-2-billion-115216388.html',\n",
              "   'urlToImage': 'https://s.yimg.com/uu/api/res/1.2/ualqJ9n5LeQrDNixUHDmpw--~B/aD0xMzM0O3c9MjAwMDthcHBpZD15dGFjaHlvbg--/https://media.zenfs.com/en/bloomberg_markets_842/171663237330d3542da147f5d96a102a'},\n",
              "  {'author': None,\n",
              "   'content': None,\n",
              "   'description': None,\n",
              "   'publishedAt': '2021-07-02T14:37:38Z',\n",
              "   'source': {'id': 'google-news', 'name': 'Google News'},\n",
              "   'title': 'For FDA chief Scott Gottlieb: J&J Covid vaccine should work against delta variant - CNBC Television',\n",
              "   'url': 'https://news.google.com/__i/rss/rd/articles/CBMiK2h0dHBzOi8vd3d3LnlvdXR1YmUuY29tL3dhdGNoP3Y9Ti1zVWZrS3NhMUXSAQA?oc=5',\n",
              "   'urlToImage': None},\n",
              "  {'author': \"Investor's Business Daily\",\n",
              "   'content': 'A strong June jobs report sent the stock market to early gains Friday, and the S&amp;P 500 to another all-time high. But breadth was shallow despite market gains.\\r\\nXThe S&amp;P 500 climbed 0.3%, mark… [+4938 chars]',\n",
              "   'description': 'A strong jobs report sent the stock market to early gains Friday and the S&P 500 to another all-time high. Breadth was shallow despite gains.',\n",
              "   'publishedAt': '2021-07-02T14:32:00Z',\n",
              "   'source': {'id': None, 'name': \"Investor's Business Daily\"},\n",
              "   'title': \"Jobs Report Sends Stock Market Higher, S&P 500 To New High; These Hot Stocks Cool Off - Investor's Business Daily\",\n",
              "   'url': 'https://www.investors.com/market-trend/stock-market-today/jobs-report-sends-stock-market-higher-s-these-hot-stocks-cool-off/',\n",
              "   'urlToImage': 'https://www.investors.com/wp-content/uploads/2019/05/stock-job-search-01-adobe.jpg'},\n",
              "  {'author': 'The Wall Street Journal',\n",
              "   'content': 'Large Roth IRAs owned by the superrich are in the tax spotlight now, and all savers should consider the implications for their own retirement accounts.\\r\\nRecently, the investigative site ProPublica pu… [+6499 chars]',\n",
              "   'description': 'Large Roth IRAs owned by the superrich are in the tax spotlight now, and all savers should consider the implications for their own retirement accounts.',\n",
              "   'publishedAt': '2021-07-02T14:27:28Z',\n",
              "   'source': {'id': None, 'name': 'Fox Business'},\n",
              "   'title': 'What Peter Thiel’s roth IRA means for yours - Fox Business',\n",
              "   'url': 'https://www.foxbusiness.com/personal-finance/peter-thiels-roth-ira-you-ira',\n",
              "   'urlToImage': 'https://a57.foxnews.com/static.foxbusiness.com/foxbusiness.com/content/uploads/2021/01/0/0/Peter-Thiel-.jpg?ve=1&tl=1'},\n",
              "  {'author': 'Irina Slav',\n",
              "   'content': '$100 a barrel oil sure…\\r\\nDemand is surging in oil…\\r\\nOil prices sank on Thursday…\\r\\nBy Irina Slav - Jul 02, 2021, 9:00 AM CDTCrude oil prices slid lower today after OPEC+ said it would postpone a decis… [+2028 chars]',\n",
              "   'description': 'Crude oil prices slid lower today after OPEC said it would postpone a decision on the return of more barrels to the market for later today',\n",
              "   'publishedAt': '2021-07-02T14:00:00Z',\n",
              "   'source': {'id': None, 'name': 'OilPrice.com'},\n",
              "   'title': 'Oil Prices Slip As OPEC Delays Decision - OilPrice.com',\n",
              "   'url': 'https://oilprice.com/Energy/Oil-Prices/Oil-Prices-Slip-As-OPEC-Delays-Decision.html',\n",
              "   'urlToImage': 'https://d32r1sh890xpii.cloudfront.net/article/718x300/2021-07-02_4l0zxogrzj.jpg'},\n",
              "  {'author': 'https://www.engadget.com/about/editors/jon-fingas',\n",
              "   'content': \"GM isn't just leaning on technical prowess to sell you on its EV battery technology it's hoping eco-friendliness (and frugality) will play a role, too. The automaker has struck a deal with Controlled… [+992 chars]\",\n",
              "   'description': 'GM has struck a deal that will reduce the environmental impact of its EV batteries by sourcing US lithium made using eco-friendly processes..',\n",
              "   'publishedAt': '2021-07-02T13:59:12Z',\n",
              "   'source': {'id': 'engadget', 'name': 'Engadget'},\n",
              "   'title': 'GM deal will reduce the environmental impact (and cost) of its EV batteries - Engadget',\n",
              "   'url': 'https://www.engadget.com/gm-reduces-ev-battery-environmental-impact-135823883.html',\n",
              "   'urlToImage': 'https://s.yimg.com/os/creatr-uploaded-images/2021-07/c4040e60-db32-11eb-83e8-8fbde2e8051d'},\n",
              "  {'author': 'Al Root',\n",
              "   'content': 'Chinese EV maker \\r\\n Li Auto\\r\\n reported blockbuster June deliveries Thursday night, after peers \\r\\n NIO\\r\\n and \\r\\n XPeng\\r\\n had reported record numbers for the month. The third EV maker might have saved t… [+1366 chars]',\n",
              "   'description': 'Chinese EV maker Li Auto reported blockbuster June deliveries, joining its peers NIO and XPeng in posting record numbers.',\n",
              "   'publishedAt': '2021-07-02T13:58:00Z',\n",
              "   'source': {'id': None, 'name': \"Barron's\"},\n",
              "   'title': \"Li Auto June Deliveries Soared. Why the Stock Is Dropping. - Barron's\",\n",
              "   'url': 'https://www.barrons.com/articles/li-auto-stock-june-ev-deliveries-51625230696',\n",
              "   'urlToImage': 'https://images.barrons.com/im-362995/social'},\n",
              "  {'author': 'Andrew Bary',\n",
              "   'content': 'The surging stock price of \\r\\n Hertz Global Holdings\\r\\n after its emergence from bankruptcy Wednesday amounts to a big score for the investor group led by Knighthead Capital and Certares Management tha… [+5255 chars]',\n",
              "   'description': 'Gains represent a big win for the investor group who took the rental-car company out of bankruptcy.',\n",
              "   'publishedAt': '2021-07-02T13:54:00Z',\n",
              "   'source': {'id': None, 'name': \"Barron's\"},\n",
              "   'title': \"Hertz's New Shares Surge on Their Debut in Wild Trading - Barron's\",\n",
              "   'url': 'https://www.barrons.com/articles/hertz-stock-51625151480',\n",
              "   'urlToImage': 'https://images.barrons.com/im-190830/social'},\n",
              "  {'author': 'Mary Biekert, Max Reyes',\n",
              "   'content': 'Citigroup Inc. will increase annual base salaries for its junior bankers, the latest Wall Street lender seeking to retain younger staff facing burnout from working long hours during the pandemic.\\r\\nTh… [+2687 chars]',\n",
              "   'description': 'Citigroup Inc. will increase annual base salaries for its junior bankers, the latest Wall Street lender seeking to retain younger staff facing burnout from working long hours during the pandemic.',\n",
              "   'publishedAt': '2021-07-02T13:14:00Z',\n",
              "   'source': {'id': 'bloomberg', 'name': 'Bloomberg'},\n",
              "   'title': 'Citigroup Boosts Pay for Analysts, Associates, Junior Bankers Up to $25,000 - Bloomberg',\n",
              "   'url': 'https://www.bloomberg.com/news/articles/2021-07-02/citigroup-is-latest-to-raise-base-pay-for-analysts-associates',\n",
              "   'urlToImage': 'https://assets.bwbx.io/images/users/iqjWHBFdfxIU/ivsO2UMkaTBo/v1/1200x635.jpg'},\n",
              "  {'author': None,\n",
              "   'content': None,\n",
              "   'description': 'Nonfarm payrolls increased 850,000 for the month of June, compared to the Dow Jones estimate of 706,000. The unemployment rate, however, to 5.9% against the ...',\n",
              "   'publishedAt': '2021-07-02T13:12:47Z',\n",
              "   'source': {'id': None, 'name': 'YouTube'},\n",
              "   'title': \"Here's what the June jobs report says about inflation and U.S. labor supply - CNBC Television\",\n",
              "   'url': 'https://www.youtube.com/watch?v=M4Jdg9itEUc',\n",
              "   'urlToImage': 'https://i.ytimg.com/vi/M4Jdg9itEUc/hqdefault.jpg'},\n",
              "  {'author': None,\n",
              "   'content': 'Robinhood’s IPO prospectus shows that 9.5 million customers traded $88 billion of cryptocurrency on its platform in Q1 and the company held approximately $12 billion in crypto assets under custody, a… [+2928 chars]',\n",
              "   'description': \"Robinhood's IPO prospectus shows that 9.5 million customers traded $88 billion of crypto on its platform in Q1, with 34% of revenue from DOGE.\",\n",
              "   'publishedAt': '2021-07-02T13:06:35Z',\n",
              "   'source': {'id': None, 'name': 'Bitcoin.com'},\n",
              "   'title': 'Robinhood IPO Filing Reveals $88 Billion in Cryptocurrency Trading, Dogecoin 34% of Crypto Revenue – News Bitcoin News - Bitcoin News',\n",
              "   'url': 'https://news.bitcoin.com/robinhood-ipo-filing-reveals-88-billion-in-cryptocurrency-trading-dogecoin-34-of-crypto-revenue/',\n",
              "   'urlToImage': 'https://static.news.bitcoin.com/wp-content/uploads/2021/07/robinhood-ipo.jpg'},\n",
              "  {'author': 'Will Ebiefung',\n",
              "   'content': \"Growth stocks are shares in companies that increase revenue and earnings faster than average. And they are an excellent way to earn market-beating returns in the stock market. Let's explore some reas… [+3581 chars]\",\n",
              "   'description': 'Amazon.com and CuriosityStream look poised for explosive long-term growth.',\n",
              "   'publishedAt': '2021-07-02T13:02:14Z',\n",
              "   'source': {'id': None, 'name': 'Motley Fool'},\n",
              "   'title': '2 Top Growth Stocks to Buy Right Now - Motley Fool',\n",
              "   'url': 'https://www.fool.com/investing/2021/07/02/2-top-growth-stocks-to-buy-right-now/',\n",
              "   'urlToImage': 'https://g.foolcdn.com/editorial/images/632211/gettyimages-1271085883.jpg'},\n",
              "  {'author': 'George Avalos',\n",
              "   'content': 'The first long holiday weekend since California lifted coronavirus-linked restrictions is here, but those eager to hit the road are facing\\xa0the Bay Area’s highest gasoline prices in seven years.\\r\\n“It’… [+4141 chars]',\n",
              "   'description': 'Relief from the soaring gasoline prices isn’t in the cards any time soon, experts say.',\n",
              "   'publishedAt': '2021-07-02T13:00:36Z',\n",
              "   'source': {'id': None, 'name': 'The Mercury News'},\n",
              "   'title': 'Bay Area gasoline prices skyrocket ahead of Independence Day weekend - The Mercury News',\n",
              "   'url': 'https://www.mercurynews.com/2021/07/02/bay-area-gasoline-prices-skyrocket-ahead-of-independence-day-weekend/',\n",
              "   'urlToImage': 'https://www.mercurynews.com/wp-content/uploads/2021/07/SJM-L-GASPRICES-0702-6.jpg?w=1024&h=610'},\n",
              "  {'author': 'http://www.facebook.com/kitconews',\n",
              "   'content': '(Kitco News) Gold rose to daily highs after the U.S. added more jobs than expected in June but the unemployment rate ticked up. \\r\\nU.S. nonfarm payrolls rose by 850,000 in June, according to the Burea… [+1258 chars]',\n",
              "   'description': '',\n",
              "   'publishedAt': '2021-07-02T12:35:00Z',\n",
              "   'source': {'id': None, 'name': 'Kitco NEWS'},\n",
              "   'title': 'Gold price jumps as U.S. job numbers beat expectations but unemployment rate rises in June - Kitco NEWS',\n",
              "   'url': 'https://www.kitco.com/news/2021-07-02/Gold-price-resilient-as-U-S-job-numbers-beat-expectations-in-June-with-850k-positions-added.html',\n",
              "   'urlToImage': 'https://www.kitco.com/news/2021-07-02/images/shutterstock_1016302528-min.jpg'},\n",
              "  {'author': 'David Koenig',\n",
              "   'content': 'The Transportation Department will propose that airlines be required to refund fees on checked baggage if the bags arent delivered to passengers quickly enough.\\r\\nThe proposal, if made final after a l… [+3557 chars]',\n",
              "   'description': \"The Transportation Department will propose that airlines be required to refund fees on checked baggage if the bags aren't delivered to passengers quickly enough. The proposal, if made final after a lengthy regulation-writing process, would also require prompt…\",\n",
              "   'publishedAt': '2021-07-02T12:21:08Z',\n",
              "   'source': {'id': 'associated-press', 'name': 'Associated Press'},\n",
              "   'title': 'US plans to make airlines refund fees if bags are delayed - Associated Press',\n",
              "   'url': 'https://apnews.com/article/us-plans-make-airlines-refund-fees-if-bags-delayed-9c177275146d479053f2d48adc82c27b',\n",
              "   'urlToImage': 'https://storage.googleapis.com/afs-prod/media/0727bea912d4466c8d41f2d6cc1dc520/3000.jpeg'},\n",
              "  {'author': 'Andrew J. Hawkins',\n",
              "   'content': 'Its risky bet because there is no full-scale lithium production in the US\\r\\nPhoto by David McNew/Getty Images\\r\\nGeneral Motors has struck a deal with a mining company to source lithium, a key ingredien… [+3951 chars]',\n",
              "   'description': 'GM is investing millions of dollars in Controlled Thermal Resources, an Australian company that is trying to build a full-scale lithium production facility in California. Lithium is a crucial ingredient in batteries for electric vehicles.',\n",
              "   'publishedAt': '2021-07-02T12:00:00Z',\n",
              "   'source': {'id': 'the-verge', 'name': 'The Verge'},\n",
              "   'title': 'General Motors strikes a deal to source lithium in the US for its electric car batteries - The Verge',\n",
              "   'url': 'https://www.theverge.com/2021/7/2/22559718/gm-lithium-ctr-ev-battery-investment-salton-sea',\n",
              "   'urlToImage': 'https://cdn.vox-cdn.com/thumbor/FZ0lBklflqwIED_tYgRkJeY1YKw=/0x387:5407x3218/fit-in/1200x630/cdn.vox-cdn.com/uploads/chorus_asset/file/22694526/1231148258.jpg'},\n",
              "  {'author': 'Reuters',\n",
              "   'content': '(Reuters) - Charles Schwab Corp on Friday revealed an investigation by the U.S. Securities and Exchange Commission (SEC) related to historic disclosures involving Schwab Intelligent Portfolios, the r… [+767 chars]',\n",
              "   'description': 'The retail brokerage said it had been cooperating with the SEC staff in the investigation and is \"evaluating its options.\"  Schwab\\'s robo adviser or...',\n",
              "   'publishedAt': '2021-07-02T10:48:59Z',\n",
              "   'source': {'id': None, 'name': 'Yahoo Entertainment'},\n",
              "   'title': 'Charles Schwab says SEC investigating robo adviser disclosures, warns of Q2 results hit - Yahoo Finance',\n",
              "   'url': 'https://finance.yahoo.com/news/charles-schwab-says-sec-investigating-104859356.html',\n",
              "   'urlToImage': 'https://s.yimg.com/uu/api/res/1.2/7AMQ.kXGh4_HKl7HqLIt.g--~B/aD01MzM7dz04MDA7YXBwaWQ9eXRhY2h5b24-/https://media.zenfs.com/en/reuters-finance.com/18f520e23d8f3582e41946ab357faa49'},\n",
              "  {'author': 'John Carroll',\n",
              "   'content': 'When GlaxoSmithKline R&amp;D chief Hal Barron outlined his vision for the new GSK, he touted repeatedly how, digging through functional genomic datasets from partners like 23andMe and the UK Biobank,… [+719 chars]',\n",
              "   'description': 'One of the pioneers in the complete overhaul of oncology R&D over the last 10 years is headed to Amgen. The pharma giant put out the word on social media that Jean-Charles Soria, the director general of the storied Gustave Roussy Institute in France, is joini…',\n",
              "   'publishedAt': '2021-07-02T10:32:00Z',\n",
              "   'source': {'id': None, 'name': 'Endpoints News'},\n",
              "   'title': 'Scoop: Amgen recruits renowned cancer drug investigator Jean-Charles Soria to lead a growing pipeline play - Endpoints News',\n",
              "   'url': 'https://endpts.com/scoop-amgen-recruits-renowned-cancer-drug-investigator-jean-charles-soria-to-lead-a-growing-pipeline-play/',\n",
              "   'urlToImage': 'https://endpts.com/wp-content/uploads/2021/07/Jean-Charles-Soria-tile-credit-ESMO-2018-scaled.jpg'},\n",
              "  {'author': 'Jeanna Smialek',\n",
              "   'content': 'Daily Business Briefing\\r\\nJuly 2, 2021Updated\\xa0July 2, 2021, 4:38 p.m. ET\\r\\nJuly 2, 2021, 4:38 p.m. ET\\r\\nPercent change in wages for non-managers since January 2019\\r\\n+2\\r\\n+4\\r\\n+6\\r\\n+8\\r\\n+10\\r\\n+12\\r\\n+14%\\r\\n2019\\r… [+26613 chars]',\n",
              "   'description': 'Policymakers generally see the higher pay as good news, but it could create inflation risks if it persists.',\n",
              "   'publishedAt': '2021-07-02T09:06:16Z',\n",
              "   'source': {'id': None, 'name': 'New York Times'},\n",
              "   'title': 'June Jobs Report: Live Updates - The New York Times',\n",
              "   'url': 'https://www.nytimes.com/live/2021/07/02/business/economy-stock-market-news',\n",
              "   'urlToImage': 'https://static01.nyt.com/images/2021/07/02/business/02econ-brf-markets/merlin_190193283_57e44ea6-c75f-4ba6-82e0-b9b976f26167-facebookJumbo.jpg'},\n",
              "  {'author': 'Samuel Chamberlain',\n",
              "   'content': 'Johnson &amp; Johnson said late Thursday that preliminary data shows its single-shot vaccine is effective against the fast-spreading Delta variant of COVID-19 that was first discovered in India.\\r\\nIn … [+3400 chars]',\n",
              "   'description': 'Johnson & Johnson said late Thursday that preliminary data shows its single-shot vaccine is effective against the fast-spreading Delta variant of COVID-19 that was first discovered in India.',\n",
              "   'publishedAt': '2021-07-02T04:58:00Z',\n",
              "   'source': {'id': None, 'name': 'New York Post'},\n",
              "   'title': 'Early data shows Johnson & Johnson vaccine works against Delta variant - New York Post ',\n",
              "   'url': 'https://nypost.com/2021/07/02/early-data-shows-johnson-johnson-vaccine-works-against-delta-variant/',\n",
              "   'urlToImage': 'https://nypost.com/wp-content/uploads/sites/2/2021/07/jj-vaccine-delta-effective-index.jpg?quality=90&strip=all&w=1200'},\n",
              "  {'author': 'Christopher Rugaber',\n",
              "   'content': 'WASHINGTON (AP) In an encouraging burst of hiring, Americas employers added 850,000 jobs in June, well above the average of the previous three months and a sign that companies may be having an easier… [+7030 chars]',\n",
              "   'description': 'WASHINGTON (AP) — In an encouraging burst of hiring, America’s employers added 850,000 jobs in June, well above the average of the previous three months and a sign that companies may be having an easier time finding enough workers to fill open jobs.',\n",
              "   'publishedAt': '2021-07-02T04:07:52Z',\n",
              "   'source': {'id': 'associated-press', 'name': 'Associated Press'},\n",
              "   'title': '[AP] As US companies scramble to hire, workers enjoy upper hand - The Associated Press',\n",
              "   'url': 'https://apnews.com/article/health-coronavirus-pandemic-business-19c34ac90dbfa0f45bc9dac2a086cbfc',\n",
              "   'urlToImage': 'https://storage.googleapis.com/afs-prod/media/bd8a79c67b114bf6b374fc83b2f351f6/3000.jpeg'},\n",
              "  {'author': 'Robert Frank',\n",
              "   'content': 'Manhattan real estate prices reached an all-time high in the second quarter, as buyers returned to the city and boosted demand for the largest, most expensive apartments, according to new reports.\\r\\nT… [+3621 chars]',\n",
              "   'description': 'The price jumps and shrinking inventory suggest that the Manhattan real estate rebound is continuing to gain momentum.',\n",
              "   'publishedAt': '2021-07-02T04:01:01Z',\n",
              "   'source': {'id': None, 'name': 'CNBC'},\n",
              "   'title': \"Manhattan real estate prices reach new record as buying 'frenzy' takes hold - CNBC\",\n",
              "   'url': 'https://www.cnbc.com/2021/07/02/manhattan-real-estate-prices-reach-new-record-with-buying-frenzy-.html',\n",
              "   'urlToImage': 'https://image.cnbcfm.com/api/v1/image/104381226-GettyImages-591378416.jpg?v=1625171854'},\n",
              "  {'author': 'Leah Nylen',\n",
              "   'content': \"Thursday's videoconferenced session was the first public glimpse of what may lie in store for the 106-year-old agency under its youngest-ever chair, a former Columbia University law professor who mad… [+8866 chars]\",\n",
              "   'description': 'Under Biden nominee Lina Khan, the agency met in public for the first time in decades — and split along party lines on an aggressive enforcement agenda.',\n",
              "   'publishedAt': '2021-07-02T00:49:22Z',\n",
              "   'source': {'id': 'politico', 'name': 'Politico'},\n",
              "   'title': '‘Unlike anything I’ve seen at the FTC’: Biden’s chair makes her public debut - POLITICO',\n",
              "   'url': 'https://www.politico.com/news/2021/07/01/ftc-lina-khan-antitrust-chair-497764',\n",
              "   'urlToImage': 'https://static.politico.com/77/ab/ea9d5f154a449a78afbdb89e529e/gettyimages-1232439810-1.jpg'},\n",
              "  {'author': 'Associated Press',\n",
              "   'content': 'When a controversial Alzheimers drug won U.S. approval, surprise over the decision quickly turned to shock at how long it might take to find out if it really works nine years.\\r\\nDrugmaker Biogen has u… [+6862 chars]',\n",
              "   'description': 'When a controversial Alzheimer’s drug won U.S. approval, surprise over the decision quickly turned to shock at how long it might take to find out if it really works — nine years.',\n",
              "   'publishedAt': '2021-07-01T21:02:48Z',\n",
              "   'source': {'id': 'fox-news', 'name': 'Fox News'},\n",
              "   'title': \"Does new Alzheimer's drug work? Answers may miss 2030 target - Fox News\",\n",
              "   'url': 'https://www.foxnews.com/health/does-new-alzheimers-drug-work-answers-may-miss-2030-target',\n",
              "   'urlToImage': 'https://static.foxnews.com/foxnews.com/content/uploads/2021/07/Alzheimer-drug.jpg'},\n",
              "  {'author': None,\n",
              "   'content': \"Pinterest is banning weight loss ads to address concerns about eating disorders.\\r\\nRich Polk/Getty Images for Pinterest\\r\\nPinterest is saying goodbye to weight loss ads. It's banning them altogether, b… [+2003 chars]\",\n",
              "   'description': \"Pinterest will now ban all ads containing weight loss language or imagery, adding to the platform's growing roster of prohibited content.\",\n",
              "   'publishedAt': '2021-07-01T20:43:27Z',\n",
              "   'source': {'id': None, 'name': 'NPR'},\n",
              "   'title': 'Pinterest Bans All Weight Loss Ads - NPR',\n",
              "   'url': 'https://www.npr.org/2021/07/01/1012260233/pinterest-bans-all-weight-loss-ads',\n",
              "   'urlToImage': 'https://media.npr.org/assets/img/2021/07/01/ipad-home-feed_wide-7e33f8057124afef0bd1c77f6c7d9e7e688272f2.jpg?s=1400'},\n",
              "  {'author': 'Mike Butcher',\n",
              "   'content': 'Hepsiburada Turkey’s giant online shopping platform considered the Amazon of its country floats on the Nasdaq today, for a valuation likely to exceed $3.9 billion on current projections, especially w… [+7236 chars]',\n",
              "   'description': 'Hepsiburada — Turkey’s giant online shopping platform considered the Amazon of its country — floats on the Nasdaq today, for a valuation likely to exceed $3.9 billion on current projections, especially with shares being marked up to $14 apiece (up from the pr…',\n",
              "   'publishedAt': '2021-07-01T20:15:00Z',\n",
              "   'source': {'id': 'techcrunch', 'name': 'TechCrunch'},\n",
              "   'title': 'Hepsiburada CEO sets out her vision, as it becomes first Turkish Nasdaq IPO - TechCrunch',\n",
              "   'url': 'http://techcrunch.com/2021/07/01/exclusive-hepsiburada-ceo-sets-out-her-vision-as-it-becomes-first-ever-turkish-nasdaq-ipo/',\n",
              "   'urlToImage': 'https://techcrunch.com/wp-content/uploads/2021/07/Hanzade-Doğan-Boyner.jpg?w=600'},\n",
              "  {'author': 'Associated Press',\n",
              "   'content': None,\n",
              "   'description': 'ARLINGTON, Va. (AP) &mdash; Amazon is adding a new commuter benefit for its employees to encourage bicycling to work. The company announced a new program Thursday to reimburse employees up to $400 a month for the costs of using a bicycle to commute to work. T…',\n",
              "   'publishedAt': '2021-07-01T19:39:29Z',\n",
              "   'source': {'id': None, 'name': 'KOMO News'},\n",
              "   'title': 'Subsidizing spokes: Amazon to reimburse bicycling employees - KOMO News',\n",
              "   'url': 'https://komonews.com/news/local/subsidizing-spokes-amazon-to-reimburse-bicycling-employees',\n",
              "   'urlToImage': 'https://static-20.sinclairstoryline.com/resources/media/01b031cd-011e-402f-9345-8cf53b012cad-large16x9_NewCyclinglawcaptioned.jpg?1625168356783'},\n",
              "  {'author': 'Peter Aitken',\n",
              "   'content': 'Mortgage rates have dropped below 3% once again in 2021, with experts predicting that the rates are unlikely to change much throughout the summer.\\xa0\\r\\nMortgage loan company Freddie Mac Thursday release… [+1371 chars]',\n",
              "   'description': 'The report looked at 30-year and 15-year fixed-rate mortgage averages, as well as 5-year Treasury-indexed hybrid adjustable-rate mortgage averages.',\n",
              "   'publishedAt': '2021-07-01T19:11:30Z',\n",
              "   'source': {'id': None, 'name': 'Fox Business'},\n",
              "   'title': \"Mortgage rates below 3%, likely to remain the same 'through the summer': report - Fox Business\",\n",
              "   'url': 'https://www.foxbusiness.com/markets/mortgage-rates-summer',\n",
              "   'urlToImage': 'https://a57.foxnews.com/static.foxbusiness.com/foxbusiness.com/content/uploads/2020/06/0/0/AP20170577534568.jpg?ve=1&tl=1'},\n",
              "  {'author': 'William Harwood',\n",
              "   'content': \"Wally Funk, an 82-year-old aviation pioneer and one of the 13 female fliers who were tested but ultimately barred from NASA's initially all-male astronaut corps in the 1960s, is finally getting her c… [+4573 chars]\",\n",
              "   'description': '\"I can hardly wait,\" said Wally Funk, one of the \"Mercury 13\" female aviators rejected by NASA in the 1960s, who will finally get to fly in space.',\n",
              "   'publishedAt': '2021-07-01T17:59:00Z',\n",
              "   'source': {'id': 'cbs-news', 'name': 'CBS News'},\n",
              "   'title': 'Wally Funk, legendary aviation pioneer, to join Jeff Bezos for trip to space - CBS News',\n",
              "   'url': 'https://www.cbsnews.com/news/wally-funk-jeff-bezos-space-launch/',\n",
              "   'urlToImage': 'https://cbsnews2.cbsistatic.com/hub/i/r/2021/07/01/ffd436b0-e8f0-48e1-8542-5b50621ed060/thumbnail/1200x630/bc901e545b0f8d7cbbf2e35846312663/gettyimages-105969739-crop.jpg'},\n",
              "  {'author': None,\n",
              "   'content': 'Plastics have become an essential material of the modern global consumer economy, yet many of the properties that make them useful in so many applications also make them a serious environmental threa… [+1827 chars]',\n",
              "   'description': 'Plastics have become an essential material of the modern global consumer economy, yet many of the properties that make them useful in so many applications also make them a serious environmental threat. As for much new technology, their development and prolife…',\n",
              "   'publishedAt': '2021-07-01T17:56:15Z',\n",
              "   'source': {'id': None, 'name': 'Science Magazine'},\n",
              "   'title': \"A devil's bargain - Science Magazine\",\n",
              "   'url': 'https://science.sciencemag.org/content/373/6550/34.full',\n",
              "   'urlToImage': 'https://science.sciencemag.org/content/373/6550/34/F1.large.jpg'},\n",
              "  {'author': None,\n",
              "   'content': \"Another round of gas tax increases, new student loan protections and wildfire recovery assistance are just some of several California laws taking effect on July 1.Here's a look at the new laws taking… [+2039 chars]\",\n",
              "   'description': \"Here's a look at the new laws taking effect July 1, as the state begins a new fiscal year.\",\n",
              "   'publishedAt': '2021-07-01T17:49:08Z',\n",
              "   'source': {'id': None, 'name': 'KGO-TV'},\n",
              "   'title': 'Gas tax, student loan protections and other California laws going into effect July 1, 2021 - KGO-TV',\n",
              "   'url': 'https://abc7news.com/california-gas-tax-new-laws-july-1-2021-students-loans/10850645/',\n",
              "   'urlToImage': 'https://cdn.abcotvs.com/dip/images/6116915_gaspump.jpg?w=1600'},\n",
              "  {'author': 'Leah Hope',\n",
              "   'content': \"CHICAGO (WLS) -- Chicago's minimum wage increase to $15-an-hour took effect Thursday.For tipped workers, the rate goes up to $9-an-hour. Their employers are required to make up the difference if tips… [+1906 chars]\",\n",
              "   'description': \"Chicago's minimum wage increase to $15-an-hour takes effect Thursday. The rate remains $11-an-hour in Illinois.\",\n",
              "   'publishedAt': '2021-07-01T17:19:21Z',\n",
              "   'source': {'id': None, 'name': 'WLS-TV'},\n",
              "   'title': 'Chicago minimum wage increase to $15-an-hour takes effect; Illinois rate remains $11-an-hour - WLS-TV',\n",
              "   'url': 'https://abc7chicago.com/minimum-wage-chicago-illinois-2021-cook-county/10849920/',\n",
              "   'urlToImage': 'https://cdn.abcotvs.com/dip/images/10852077_070121-wls-hope-minimum-wage-5p-vid.jpg?w=1600'},\n",
              "  {'author': None,\n",
              "   'content': None,\n",
              "   'description': 'Krispy Kreme (DNUT) climbed in its first day of trading following an IPO that was priced well below an expected range.',\n",
              "   'publishedAt': '2021-07-01T16:59:00Z',\n",
              "   'source': {'id': None, 'name': 'Seeking Alpha'},\n",
              "   'title': 'Krispy Kreme initially drops in first day of trading - Seeking Alpha',\n",
              "   'url': 'https://seekingalpha.com/news/3711947-krispy-kreme-reverses-loss-and-gains',\n",
              "   'urlToImage': 'https://static.seekingalpha.com/cdn/s3/uploads/getty_images/1316486136/medium_image_1316486136.jpg'},\n",
              "  {'author': 'Megan Henney',\n",
              "   'content': 'A recent burst of inflation could prove more long-lasting than expected as the surging U.S. economy faces widespread bottlenecks that have severely disrupted the global supply chain, a Federal Reserv… [+2679 chars]',\n",
              "   'description': 'A recent burst of inflation could prove more long-lasting than expected as the surging U.S. economy faces widespread bottlenecks that have severely disrupted the global supply chain, a Fed official said on Thursday.',\n",
              "   'publishedAt': '2021-07-01T15:18:09Z',\n",
              "   'source': {'id': None, 'name': 'Fox Business'},\n",
              "   'title': \"Fed's Bullard warns inflation could be higher than expected in 2022 - Fox Business\",\n",
              "   'url': 'https://www.foxbusiness.com/economy/feds-bullard-inflation-expectations-2022',\n",
              "   'urlToImage': 'https://a57.foxnews.com/static.foxbusiness.com/foxbusiness.com/content/uploads/2020/05/0/0/James-Bullard-Getty.jpg?ve=1&tl=1'},\n",
              "  {'author': 'Chris Morris',\n",
              "   'content': 'Despite strong quarterly results, Walgreens was hit hard in early trading Thursday.\\r\\nShares of the drugstore chain were off more than 6.5% as of 10:20 a.m. ET after initially surging.\\r\\nThe selloff co… [+1380 chars]',\n",
              "   'description': 'The selloff comes despite optimistic news from the company, which raised its forecast for the year and reported better-than-expected third-quarter results.',\n",
              "   'publishedAt': '2021-07-01T14:39:30Z',\n",
              "   'source': {'id': None, 'name': 'Yahoo Entertainment'},\n",
              "   'title': 'Walgreens shares get crushed despite earnings beat - Yahoo Finance',\n",
              "   'url': 'https://finance.yahoo.com/news/walgreens-shares-crushed-despite-earnings-143930373.html',\n",
              "   'urlToImage': 'https://s.yimg.com/ny/api/res/1.2/Z4p.wOTqpySk50lLLvf4Yw--/YXBwaWQ9aGlnaGxhbmRlcjt3PTIwMDA7aD0xMzMz/https://s.yimg.com/uu/api/res/1.2/C48Z.m8yMSpky30JrdDuaQ--~B/aD0zMzMzO3c9NTAwMDthcHBpZD15dGFjaHlvbg--/https://media.zenfs.com/en/fortune_175/4faf5f142dc2aa06d59322f3f1012f59'},\n",
              "  {'author': None,\n",
              "   'content': 'In todays Electrek Green Energy Brief (EGEB):\\r\\n<ul><li>New Jersey approves USs largest combined offshore wind project, Atlantic Shores and Ocean Wind II.</li><li>Transitioning to clean energy will gr… [+3808 chars]',\n",
              "   'description': 'New Jersey approves 2.7 GW of offshore wind power; transitioning to clean energy will grow the global economy, reports IRENA.',\n",
              "   'publishedAt': '2021-07-01T14:11:00Z',\n",
              "   'source': {'id': None, 'name': 'Electrek'},\n",
              "   'title': 'EGEB: New Jersey approves US’s largest combined offshore wind farm - Electrek',\n",
              "   'url': 'https://electrek.co/2021/07/01/egeb-new-jersey-approves-us-largest-combined-offshore-wind-project/',\n",
              "   'urlToImage': 'https://i0.wp.com/electrek.co/wp-content/uploads/sites/3/2021/07/orsted-ocean-wind.jpg?resize=1200%2C628&quality=82&strip=all&ssl=1'},\n",
              "  {'author': 'Chris Dong',\n",
              "   'content': 'Lounge lovers, listen up.\\r\\nAmex has long been a pioneer in creating airport lounge experiences for its cardholders. Since its inception in 2013, The Amex Centurion Lounges have become a valuable perk… [+7742 chars]',\n",
              "   'description': 'Lounge lovers, listen up.',\n",
              "   'publishedAt': '2021-07-01T14:00:19Z',\n",
              "   'source': {'id': None, 'name': 'The Points Guy'},\n",
              "   'title': 'Amex to scale to over 40 Centurion-branded lounges worldwide, reduces upcoming guest fee for children - The Points Guy',\n",
              "   'url': 'http://thepointsguy.com/news/amex-centurion-network-expansion/',\n",
              "   'urlToImage': 'https://thepointsguy.global.ssl.fastly.net/us/originals/2021/06/Centurion_social.jpg'},\n",
              "  {'author': None,\n",
              "   'content': 'The United States is headed for its largest corn harvest ever and its third-largest soybean crop, based on the USDAs annual Acreage report, issued on Wednesday. The mammoth crops would be ready for h… [+3065 chars]',\n",
              "   'description': 'The U.S. is headed for its largest corn harvest ever and its third-largest soybean crop, based on the USDA’s annual Acreage report.',\n",
              "   'publishedAt': '2021-07-01T12:59:20Z',\n",
              "   'source': {'id': None, 'name': 'Successful Farming'},\n",
              "   'title': 'Bumper U.S. corn and soybean harvests are within reach - Successful Farming',\n",
              "   'url': 'https://www.agriculture.com/news/crops/bumper-us-corn-and-soybean-harvests-are-within-reach',\n",
              "   'urlToImage': 'https://static.agriculture.com/styles/width_550/s3/s3fs-public/image/2018/08/02/Willard-479625598%5B1%5D.jpg'},\n",
              "  {'author': 'Holly Ellyatt',\n",
              "   'content': 'LONDON CureVac plans to continue work on its Covid-19 vaccine despite disappointing clinical trial results that showed the shot is just 48% effective.\\r\\nThe German biotech firm published its final ana… [+3075 chars]',\n",
              "   'description': 'CureVac plans to continue work on its Covid-19 vaccine despite disappointing clinical trial results that showed the shot is just 48% effective.',\n",
              "   'publishedAt': '2021-07-01T10:47:44Z',\n",
              "   'source': {'id': None, 'name': 'CNBC'},\n",
              "   'title': \"CureVac to 'plow forward' with Covid vaccine despite disappointing results - CNBC\",\n",
              "   'url': 'https://www.cnbc.com/2021/07/01/curevac-to-plow-forward-with-covid-vaccine-despite-trial-results-.html',\n",
              "   'urlToImage': 'https://image.cnbcfm.com/api/v1/image/106663674-1597404572464-2020-08-14T104458Z_1_LYNXNPEG7D0Q7_RTROPTP_4_GSK-CUREVAC-STAKE.JPG?v=1597404636'},\n",
              "  {'author': None,\n",
              "   'content': 'Nissan has announced a new EV manufacturing hub called EV36Zero in Sunderland, UK, to produce a new electric crossover.\\r\\nThe hub will also include its own battery factory, as previously reported.\\r\\nEa… [+3289 chars]',\n",
              "   'description': 'Nissan has announced a new EV manufacturing hub called EV36Zero in Sunderland, UK, to produce a new electric crossover. The hub will also include its own battery factory, as previously reported. Earlier this week, we reported on Nissan’s plan to build a new b…',\n",
              "   'publishedAt': '2021-07-01T10:15:00Z',\n",
              "   'source': {'id': None, 'name': 'Electrek'},\n",
              "   'title': 'Nissan announces new EV factory in UK to produce new electric crossover - Electrek',\n",
              "   'url': 'https://electrek.co/2021/07/01/nissan-ev-factory-uk-new-electric-crossover/',\n",
              "   'urlToImage': 'https://i0.wp.com/electrek.co/wp-content/uploads/sites/3/2021/07/20210701_Envision-AESC-Artist-Impression-source-e1625134382911.jpg?resize=1200%2C628&quality=82&strip=all&ssl=1'},\n",
              "  {'author': 'Travis Hoium, Howard Smith, and Daniel Foelber',\n",
              "   'content': 'The renewable energy industry is slowly upending a multi-trillion dollar electricity market worldwide and a decade or two from now it could make most fossil fuels obsolete. Wind and solar energy are … [+6602 chars]',\n",
              "   'description': 'A decade or longer timeframe is the right way to look at these stocks.',\n",
              "   'publishedAt': '2021-07-01T00:40:00Z',\n",
              "   'source': {'id': None, 'name': 'Motley Fool'},\n",
              "   'title': 'These Renewable Companies Are Set to Thrive Long Into the Future - The Motley Fool',\n",
              "   'url': 'https://www.fool.com/investing/2021/06/30/these-renewable-companies-are-set-to-thrive-long-i/',\n",
              "   'urlToImage': 'https://g.foolcdn.com/editorial/images/631395/solar-farm-in-desert-mountains.jpg'},\n",
              "  {'author': 'Gene Sloan',\n",
              "   'content': 'Now we know the true cost of not getting vaccinated for COVID-19: You won’t be able to order sushi when cruising on Royal Caribbean‘s Freedom of the Seas.\\r\\nNor will you be able to get a pint of Guinn… [+4426 chars]',\n",
              "   'description': \"Now we know the true cost of not getting vaccinated for COVID-19: You won't be able to order sushi when cruising on Royal Caribbean's Freedom of the Seas.\",\n",
              "   'publishedAt': '2021-06-30T22:01:32Z',\n",
              "   'source': {'id': None, 'name': 'The Points Guy'},\n",
              "   'title': 'Royal Caribbean to unvaccinated travelers: No sushi (and a lot of other things) for you - The Points Guy',\n",
              "   'url': 'http://thepointsguy.com/news/royal-caribbean-unvaccinated-cruiser-restrictions/',\n",
              "   'urlToImage': 'https://thepointsguy.global.ssl.fastly.net/us/originals/2021/06/1624145764_IMG-0571-scaled.jpg'}],\n",
              " 'status': 'ok',\n",
              " 'totalResults': 70}"
            ]
          },
          "metadata": {
            "tags": []
          },
          "execution_count": 21
        }
      ]
    },
    {
      "cell_type": "code",
      "metadata": {
        "id": "NJ3GXDP36tjp",
        "colab": {
          "base_uri": "https://localhost:8080/"
        },
        "outputId": "f71ae579-ac4c-4915-e249-9e4adf937c42"
      },
      "source": [
        "data.keys()"
      ],
      "execution_count": null,
      "outputs": [
        {
          "output_type": "execute_result",
          "data": {
            "text/plain": [
              "dict_keys(['status', 'totalResults', 'articles'])"
            ]
          },
          "metadata": {
            "tags": []
          },
          "execution_count": 22
        }
      ]
    },
    {
      "cell_type": "code",
      "metadata": {
        "id": "it0zNlOv6_KF",
        "colab": {
          "base_uri": "https://localhost:8080/"
        },
        "outputId": "3c202a25-c3d4-4c11-cb5e-45c7cdd9028f"
      },
      "source": [
        "for article in data['articles']:\n",
        "  print(article['source'])"
      ],
      "execution_count": null,
      "outputs": [
        {
          "output_type": "stream",
          "text": [
            "{'id': 'ars-technica', 'name': 'Ars Technica'}\n",
            "{'id': None, 'name': 'Yahoo Entertainment'}\n",
            "{'id': None, 'name': 'CNBC'}\n",
            "{'id': None, 'name': 'CNBC'}\n",
            "{'id': None, 'name': 'New York Times'}\n",
            "{'id': None, 'name': 'New York Times'}\n",
            "{'id': 'cnn', 'name': 'CNN'}\n",
            "{'id': None, 'name': 'WPVI-TV'}\n",
            "{'id': None, 'name': 'CNBC'}\n",
            "{'id': 'business-insider', 'name': 'Business Insider'}\n",
            "{'id': None, 'name': 'Fox Business'}\n",
            "{'id': None, 'name': 'New York Post'}\n",
            "{'id': 'fox-news', 'name': 'Fox News'}\n",
            "{'id': None, 'name': 'CNBC'}\n",
            "{'id': None, 'name': 'CNBC'}\n",
            "{'id': None, 'name': 'WGAL Susquehanna Valley Pa.'}\n",
            "{'id': None, 'name': 'Detroit Free Press'}\n",
            "{'id': 'the-verge', 'name': 'The Verge'}\n",
            "{'id': 'the-verge', 'name': 'The Verge'}\n",
            "{'id': 'fox-news', 'name': 'Fox News'}\n",
            "{'id': 'techcrunch', 'name': 'TechCrunch'}\n",
            "{'id': None, 'name': 'Yahoo Entertainment'}\n",
            "{'id': None, 'name': 'Yahoo Entertainment'}\n",
            "{'id': None, 'name': 'The-sun.com'}\n",
            "{'id': 'cnn', 'name': 'CNN'}\n",
            "{'id': None, 'name': 'MarketWatch'}\n",
            "{'id': 'the-verge', 'name': 'The Verge'}\n",
            "{'id': None, 'name': 'CNBC'}\n",
            "{'id': None, 'name': 'Yahoo Entertainment'}\n",
            "{'id': 'google-news', 'name': 'Google News'}\n",
            "{'id': None, 'name': \"Investor's Business Daily\"}\n",
            "{'id': None, 'name': 'Fox Business'}\n",
            "{'id': None, 'name': 'OilPrice.com'}\n",
            "{'id': 'engadget', 'name': 'Engadget'}\n",
            "{'id': None, 'name': \"Barron's\"}\n",
            "{'id': None, 'name': \"Barron's\"}\n",
            "{'id': 'bloomberg', 'name': 'Bloomberg'}\n",
            "{'id': None, 'name': 'YouTube'}\n",
            "{'id': None, 'name': 'Bitcoin.com'}\n",
            "{'id': None, 'name': 'Motley Fool'}\n",
            "{'id': None, 'name': 'The Mercury News'}\n",
            "{'id': None, 'name': 'Kitco NEWS'}\n",
            "{'id': 'associated-press', 'name': 'Associated Press'}\n",
            "{'id': 'the-verge', 'name': 'The Verge'}\n",
            "{'id': None, 'name': 'Yahoo Entertainment'}\n",
            "{'id': None, 'name': 'Endpoints News'}\n",
            "{'id': None, 'name': 'New York Times'}\n",
            "{'id': None, 'name': 'New York Post'}\n",
            "{'id': 'associated-press', 'name': 'Associated Press'}\n",
            "{'id': None, 'name': 'CNBC'}\n",
            "{'id': 'politico', 'name': 'Politico'}\n",
            "{'id': 'fox-news', 'name': 'Fox News'}\n",
            "{'id': None, 'name': 'NPR'}\n",
            "{'id': 'techcrunch', 'name': 'TechCrunch'}\n",
            "{'id': None, 'name': 'KOMO News'}\n",
            "{'id': None, 'name': 'Fox Business'}\n",
            "{'id': 'cbs-news', 'name': 'CBS News'}\n",
            "{'id': None, 'name': 'Science Magazine'}\n",
            "{'id': None, 'name': 'KGO-TV'}\n",
            "{'id': None, 'name': 'WLS-TV'}\n",
            "{'id': None, 'name': 'Seeking Alpha'}\n",
            "{'id': None, 'name': 'Fox Business'}\n",
            "{'id': None, 'name': 'Yahoo Entertainment'}\n",
            "{'id': None, 'name': 'Electrek'}\n",
            "{'id': None, 'name': 'The Points Guy'}\n",
            "{'id': None, 'name': 'Successful Farming'}\n",
            "{'id': None, 'name': 'CNBC'}\n",
            "{'id': None, 'name': 'Electrek'}\n",
            "{'id': None, 'name': 'Motley Fool'}\n",
            "{'id': None, 'name': 'The Points Guy'}\n"
          ],
          "name": "stdout"
        }
      ]
    },
    {
      "cell_type": "code",
      "metadata": {
        "id": "ejlyNSLo7Gne",
        "colab": {
          "base_uri": "https://localhost:8080/"
        },
        "outputId": "e105b19e-0667-45fb-9812-850df950a838"
      },
      "source": [
        "def getNews(source):\n",
        "  url_list = []\n",
        "  for article in data['articles']:\n",
        "    if source == article['source']['name']:\n",
        "      url_list.append(article['url'])\n",
        "  return url_list\n",
        "getNews('CNBC')"
      ],
      "execution_count": null,
      "outputs": [
        {
          "output_type": "execute_result",
          "data": {
            "text/plain": [
              "['https://www.cnbc.com/2021/07/02/fed-chair-powell-met-with-coinbase-ceo-brian-armstrong-in-may.html',\n",
              " 'https://www.cnbc.com/2021/07/02/bitcoin-etf-should-be-approved-already-sec-regulator-says.html',\n",
              " 'https://www.cnbc.com/2021/07/02/irs-data-shows-some-high-income-people-received-1400-checks.html',\n",
              " 'https://www.cnbc.com/2021/07/02/stocks-making-the-biggest-moves-midday-krispy-kreme-virgin-galactic-ibm-didi-and-more.html',\n",
              " 'https://www.cnbc.com/2021/07/02/jeff-bezos-says-this-is-how-you-earn-trust-and-build-reputation-it-really-is-that-simple.html',\n",
              " 'https://www.cnbc.com/2021/07/02/crispr-gene-editing-could-reach-patients-very-soon-intellia-ceo.html',\n",
              " 'https://www.cnbc.com/2021/07/02/manhattan-real-estate-prices-reach-new-record-with-buying-frenzy-.html',\n",
              " 'https://www.cnbc.com/2021/07/01/curevac-to-plow-forward-with-covid-vaccine-despite-trial-results-.html']"
            ]
          },
          "metadata": {
            "tags": []
          },
          "execution_count": 24
        }
      ]
    },
    {
      "cell_type": "code",
      "metadata": {
        "colab": {
          "base_uri": "https://localhost:8080/"
        },
        "id": "itkZn6jbXuuk",
        "outputId": "1bdaf8f5-9c7a-414a-cd54-49dfbc3e957c"
      },
      "source": [
        "def getNews(source):\n",
        "  url_list = []\n",
        "  for article in data['articles']:\n",
        "    if source == article['source']['name']:\n",
        "      url_list.append(article['url'])\n",
        "  return url_list\n",
        "getNews('The Wall Street Journal')"
      ],
      "execution_count": null,
      "outputs": [
        {
          "output_type": "execute_result",
          "data": {
            "text/plain": [
              "[]"
            ]
          },
          "metadata": {
            "tags": []
          },
          "execution_count": 25
        }
      ]
    },
    {
      "cell_type": "code",
      "metadata": {
        "id": "5mnYsvjb7zeL",
        "colab": {
          "base_uri": "https://localhost:8080/"
        },
        "outputId": "50227c3c-7da1-4463-e9c3-bc02826e7b46"
      },
      "source": [
        "source = 'The Wall Street Journal'\n",
        "url = getNews(source)\n",
        "\n",
        "url_wsj = []\n",
        "\n",
        "for all_url in url: \n",
        "  url_wsj += extractEntities(all_url, source)\n",
        "print(url_wsj)"
      ],
      "execution_count": null,
      "outputs": [
        {
          "output_type": "stream",
          "text": [
            "[]\n"
          ],
          "name": "stdout"
        }
      ]
    },
    {
      "cell_type": "code",
      "metadata": {
        "id": "nm4bNut98dsB",
        "colab": {
          "base_uri": "https://localhost:8080/"
        },
        "outputId": "1e49ab8c-8551-4bf6-d0f4-9efed9d2214e"
      },
      "source": [
        "source = \"CNBC\"\n",
        "url = getNews(source)\n",
        "\n",
        "url_cnbc = []\n",
        "\n",
        "for all_url in url:\n",
        "  url_cnbc +=extractEntities(all_url, source) \n",
        "print(url_cnbc)"
      ],
      "execution_count": null,
      "outputs": [
        {
          "output_type": "stream",
          "text": [
            "[{'name': 'Fed', 'relevance': 0.954789, 'sentiment': -0.323186, 'url': 'https://www.cnbc.com/2021/07/02/fed-chair-powell-met-with-coinbase-ceo-brian-armstrong-in-may.html', 'source': 'CNBC'}, {'name': 'Powell', 'relevance': 0.858353, 'sentiment': 0.792678, 'url': 'https://www.cnbc.com/2021/07/02/fed-chair-powell-met-with-coinbase-ceo-brian-armstrong-in-may.html', 'source': 'CNBC'}, {'name': 'Armstrong', 'relevance': 0.811567, 'sentiment': 0.792678, 'url': 'https://www.cnbc.com/2021/07/02/fed-chair-powell-met-with-coinbase-ceo-brian-armstrong-in-may.html', 'source': 'CNBC'}, {'name': 'Jerome Powell', 'relevance': 0.74425, 'sentiment': 0, 'url': 'https://www.cnbc.com/2021/07/02/fed-chair-powell-met-with-coinbase-ceo-brian-armstrong-in-may.html', 'source': 'CNBC'}, {'name': 'cryptocurrency exchange Coinbase', 'relevance': 0.726825, 'sentiment': 0, 'url': 'https://www.cnbc.com/2021/07/02/fed-chair-powell-met-with-coinbase-ceo-brian-armstrong-in-may.html', 'source': 'CNBC'}, {'name': 'JPMorgan Chase', 'relevance': 0.666814, 'sentiment': 0, 'url': 'https://www.cnbc.com/2021/07/02/fed-chair-powell-met-with-coinbase-ceo-brian-armstrong-in-may.html', 'source': 'CNBC'}, {'name': 'Ethereum', 'relevance': 0.585458, 'sentiment': -0.633572, 'url': 'https://www.cnbc.com/2021/07/02/fed-chair-powell-met-with-coinbase-ceo-brian-armstrong-in-may.html', 'source': 'CNBC'}, {'name': 'Brian Armstrong', 'relevance': 0.545038, 'sentiment': 0, 'url': 'https://www.cnbc.com/2021/07/02/fed-chair-powell-met-with-coinbase-ceo-brian-armstrong-in-may.html', 'source': 'CNBC'}, {'name': 'Former House Speaker Paul Ryan', 'relevance': 0.467306, 'sentiment': 0, 'url': 'https://www.cnbc.com/2021/07/02/fed-chair-powell-met-with-coinbase-ceo-brian-armstrong-in-may.html', 'source': 'CNBC'}, {'name': 'Jamie Dimon', 'relevance': 0.464551, 'sentiment': 0, 'url': 'https://www.cnbc.com/2021/07/02/fed-chair-powell-met-with-coinbase-ceo-brian-armstrong-in-may.html', 'source': 'CNBC'}, {'name': 'SEC', 'relevance': 0.956845, 'sentiment': 0.340711, 'url': 'https://www.cnbc.com/2021/07/02/bitcoin-etf-should-be-approved-already-sec-regulator-says.html', 'source': 'CNBC'}, {'name': 'Peirce', 'relevance': 0.866901, 'sentiment': 0.279338, 'url': 'https://www.cnbc.com/2021/07/02/bitcoin-etf-should-be-approved-already-sec-regulator-says.html', 'source': 'CNBC'}, {'name': 'Chicago Board of Exchange', 'relevance': 0.619274, 'sentiment': 0.487618, 'url': 'https://www.cnbc.com/2021/07/02/bitcoin-etf-should-be-approved-already-sec-regulator-says.html', 'source': 'CNBC'}, {'name': 'Hester Peirce', 'relevance': 0.48978, 'sentiment': -0.677016, 'url': 'https://www.cnbc.com/2021/07/02/bitcoin-etf-should-be-approved-already-sec-regulator-says.html', 'source': 'CNBC'}, {'name': 'Commissioner Peirce', 'relevance': 0.453561, 'sentiment': 0, 'url': 'https://www.cnbc.com/2021/07/02/bitcoin-etf-should-be-approved-already-sec-regulator-says.html', 'source': 'CNBC'}, {'name': 'VanEck', 'relevance': 0.371721, 'sentiment': 0.487618, 'url': 'https://www.cnbc.com/2021/07/02/bitcoin-etf-should-be-approved-already-sec-regulator-says.html', 'source': 'CNBC'}, {'name': 'Bitcoin Trust', 'relevance': 0.369365, 'sentiment': 0.487618, 'url': 'https://www.cnbc.com/2021/07/02/bitcoin-etf-should-be-approved-already-sec-regulator-says.html', 'source': 'CNBC'}, {'name': 'Winklevoss Bitcoin Trust', 'relevance': 0.305851, 'sentiment': 0.626151, 'url': 'https://www.cnbc.com/2021/07/02/bitcoin-etf-should-be-approved-already-sec-regulator-says.html', 'source': 'CNBC'}, {'name': 'Gensler', 'relevance': 0.275612, 'sentiment': 0.411947, 'url': 'https://www.cnbc.com/2021/07/02/bitcoin-etf-should-be-approved-already-sec-regulator-says.html', 'source': 'CNBC'}, {'name': 'Cathie Wood', 'relevance': 0.266967, 'sentiment': 0.768304, 'url': 'https://www.cnbc.com/2021/07/02/bitcoin-etf-should-be-approved-already-sec-regulator-says.html', 'source': 'CNBC'}, {'name': '$1,400', 'relevance': 0.952349, 'sentiment': 0.541864, 'url': 'https://www.cnbc.com/2021/07/02/irs-data-shows-some-high-income-people-received-1400-checks.html', 'source': 'CNBC'}, {'name': '$200,000', 'relevance': 0.69496, 'sentiment': -0.588559, 'url': 'https://www.cnbc.com/2021/07/02/irs-data-shows-some-high-income-people-received-1400-checks.html', 'source': 'CNBC'}, {'name': 'IRS', 'relevance': 0.457313, 'sentiment': -0.458714, 'url': 'https://www.cnbc.com/2021/07/02/irs-data-shows-some-high-income-people-received-1400-checks.html', 'source': 'CNBC'}, {'name': '$392.3 million', 'relevance': 0.412869, 'sentiment': 0, 'url': 'https://www.cnbc.com/2021/07/02/irs-data-shows-some-high-income-people-received-1400-checks.html', 'source': 'CNBC'}, {'name': '$389.9 billion', 'relevance': 0.400686, 'sentiment': 0.395541, 'url': 'https://www.cnbc.com/2021/07/02/irs-data-shows-some-high-income-people-received-1400-checks.html', 'source': 'CNBC'}, {'name': '$75,000', 'relevance': 0.336235, 'sentiment': 0, 'url': 'https://www.cnbc.com/2021/07/02/irs-data-shows-some-high-income-people-received-1400-checks.html', 'source': 'CNBC'}, {'name': '$112,500', 'relevance': 0.33296, 'sentiment': 0, 'url': 'https://www.cnbc.com/2021/07/02/irs-data-shows-some-high-income-people-received-1400-checks.html', 'source': 'CNBC'}, {'name': '$150,000', 'relevance': 0.328324, 'sentiment': 0, 'url': 'https://www.cnbc.com/2021/07/02/irs-data-shows-some-high-income-people-received-1400-checks.html', 'source': 'CNBC'}, {'name': '$80,000', 'relevance': 0.310861, 'sentiment': -0.816164, 'url': 'https://www.cnbc.com/2021/07/02/irs-data-shows-some-high-income-people-received-1400-checks.html', 'source': 'CNBC'}, {'name': '$120,000', 'relevance': 0.302144, 'sentiment': -0.816164, 'url': 'https://www.cnbc.com/2021/07/02/irs-data-shows-some-high-income-people-received-1400-checks.html', 'source': 'CNBC'}, {'name': 'Didi', 'relevance': 0.950753, 'sentiment': 0.461864, 'url': 'https://www.cnbc.com/2021/07/02/stocks-making-the-biggest-moves-midday-krispy-kreme-virgin-galactic-ibm-didi-and-more.html', 'source': 'CNBC'}, {'name': 'Sir Richard Branson', 'relevance': 0.775372, 'sentiment': 0, 'url': 'https://www.cnbc.com/2021/07/02/stocks-making-the-biggest-moves-midday-krispy-kreme-virgin-galactic-ibm-didi-and-more.html', 'source': 'CNBC'}, {'name': '4%', 'relevance': 0.703726, 'sentiment': 0, 'url': 'https://www.cnbc.com/2021/07/02/stocks-making-the-biggest-moves-midday-krispy-kreme-virgin-galactic-ibm-didi-and-more.html', 'source': 'CNBC'}, {'name': 'Astra', 'relevance': 0.688962, 'sentiment': 0, 'url': 'https://www.cnbc.com/2021/07/02/stocks-making-the-biggest-moves-midday-krispy-kreme-virgin-galactic-ibm-didi-and-more.html', 'source': 'CNBC'}, {'name': '25%', 'relevance': 0.682762, 'sentiment': -0.607381, 'url': 'https://www.cnbc.com/2021/07/02/stocks-making-the-biggest-moves-midday-krispy-kreme-virgin-galactic-ibm-didi-and-more.html', 'source': 'CNBC'}, {'name': '20%', 'relevance': 0.665178, 'sentiment': 0, 'url': 'https://www.cnbc.com/2021/07/02/stocks-making-the-biggest-moves-midday-krispy-kreme-virgin-galactic-ibm-didi-and-more.html', 'source': 'CNBC'}, {'name': 'Blue Origin', 'relevance': 0.620205, 'sentiment': 0, 'url': 'https://www.cnbc.com/2021/07/02/stocks-making-the-biggest-moves-midday-krispy-kreme-virgin-galactic-ibm-didi-and-more.html', 'source': 'CNBC'}, {'name': '8.9%', 'relevance': 0.601888, 'sentiment': -0.859048, 'url': 'https://www.cnbc.com/2021/07/02/stocks-making-the-biggest-moves-midday-krispy-kreme-virgin-galactic-ibm-didi-and-more.html', 'source': 'CNBC'}, {'name': '23.5%', 'relevance': 0.595727, 'sentiment': -0.859048, 'url': 'https://www.cnbc.com/2021/07/02/stocks-making-the-biggest-moves-midday-krispy-kreme-virgin-galactic-ibm-didi-and-more.html', 'source': 'CNBC'}, {'name': 'JAB Holding', 'relevance': 0.56557, 'sentiment': 0.665256, 'url': 'https://www.cnbc.com/2021/07/02/stocks-making-the-biggest-moves-midday-krispy-kreme-virgin-galactic-ibm-didi-and-more.html', 'source': 'CNBC'}, {'name': 'Bezos', 'relevance': 0.978348, 'sentiment': -0.343879, 'url': 'https://www.cnbc.com/2021/07/02/jeff-bezos-says-this-is-how-you-earn-trust-and-build-reputation-it-really-is-that-simple.html', 'source': 'CNBC'}, {'name': 'Amazon', 'relevance': 0.422227, 'sentiment': 0.383121, 'url': 'https://www.cnbc.com/2021/07/02/jeff-bezos-says-this-is-how-you-earn-trust-and-build-reputation-it-really-is-that-simple.html', 'source': 'CNBC'}, {'name': 'Reagan National Defense Forum', 'relevance': 0.420339, 'sentiment': 0, 'url': 'https://www.cnbc.com/2021/07/02/jeff-bezos-says-this-is-how-you-earn-trust-and-build-reputation-it-really-is-that-simple.html', 'source': 'CNBC'}, {'name': 'Reagan Presidential Foundation and Institute', 'relevance': 0.340051, 'sentiment': 0.787629, 'url': 'https://www.cnbc.com/2021/07/02/jeff-bezos-says-this-is-how-you-earn-trust-and-build-reputation-it-really-is-that-simple.html', 'source': 'CNBC'}, {'name': 'Jeff Bezos', 'relevance': 0.285207, 'sentiment': 0.948161, 'url': 'https://www.cnbc.com/2021/07/02/jeff-bezos-says-this-is-how-you-earn-trust-and-build-reputation-it-really-is-that-simple.html', 'source': 'CNBC'}, {'name': 'U.S.', 'relevance': 0.113861, 'sentiment': 0, 'url': 'https://www.cnbc.com/2021/07/02/jeff-bezos-says-this-is-how-you-earn-trust-and-build-reputation-it-really-is-that-simple.html', 'source': 'CNBC'}, {'name': 'Bezos', 'relevance': 0.084565, 'sentiment': 0.53909, 'url': 'https://www.cnbc.com/2021/07/02/jeff-bezos-says-this-is-how-you-earn-trust-and-build-reputation-it-really-is-that-simple.html', 'source': 'CNBC'}, {'name': 'Leonard', 'relevance': 0.96064, 'sentiment': -0.419362, 'url': 'https://www.cnbc.com/2021/07/02/crispr-gene-editing-could-reach-patients-very-soon-intellia-ceo.html', 'source': 'CNBC'}, {'name': 'Intellia', 'relevance': 0.677042, 'sentiment': 0, 'url': 'https://www.cnbc.com/2021/07/02/crispr-gene-editing-could-reach-patients-very-soon-intellia-ceo.html', 'source': 'CNBC'}, {'name': 'CRISPR', 'relevance': 0.648431, 'sentiment': 0.523704, 'url': 'https://www.cnbc.com/2021/07/02/crispr-gene-editing-could-reach-patients-very-soon-intellia-ceo.html', 'source': 'CNBC'}, {'name': 'Intellia Therapeutics', 'relevance': 0.636953, 'sentiment': 0.523704, 'url': 'https://www.cnbc.com/2021/07/02/crispr-gene-editing-could-reach-patients-very-soon-intellia-ceo.html', 'source': 'CNBC'}, {'name': 'Regeneron', 'relevance': 0.52751, 'sentiment': -0.607711, 'url': 'https://www.cnbc.com/2021/07/02/crispr-gene-editing-could-reach-patients-very-soon-intellia-ceo.html', 'source': 'CNBC'}, {'name': 'John Leonard', 'relevance': 0.455222, 'sentiment': 0.523704, 'url': 'https://www.cnbc.com/2021/07/02/crispr-gene-editing-could-reach-patients-very-soon-intellia-ceo.html', 'source': 'CNBC'}, {'name': 'CNBC', 'relevance': 0.323975, 'sentiment': -0.511513, 'url': 'https://www.cnbc.com/2021/07/02/crispr-gene-editing-could-reach-patients-very-soon-intellia-ceo.html', 'source': 'CNBC'}, {'name': 'Jennifer Doudna', 'relevance': 0.220246, 'sentiment': 0.585353, 'url': 'https://www.cnbc.com/2021/07/02/crispr-gene-editing-could-reach-patients-very-soon-intellia-ceo.html', 'source': 'CNBC'}, {'name': 'heart disease', 'relevance': 0.190839, 'sentiment': -0.916909, 'url': 'https://www.cnbc.com/2021/07/02/crispr-gene-editing-could-reach-patients-very-soon-intellia-ceo.html', 'source': 'CNBC'}, {'name': 'autoimmune diseases', 'relevance': 0.185336, 'sentiment': -0.862116, 'url': 'https://www.cnbc.com/2021/07/02/crispr-gene-editing-could-reach-patients-very-soon-intellia-ceo.html', 'source': 'CNBC'}, {'name': 'Miller Samuel', 'relevance': 0.955328, 'sentiment': 0.347705, 'url': 'https://www.cnbc.com/2021/07/02/manhattan-real-estate-prices-reach-new-record-with-buying-frenzy-.html', 'source': 'CNBC'}, {'name': 'Manhattan', 'relevance': 0.557712, 'sentiment': 0.669961, 'url': 'https://www.cnbc.com/2021/07/02/manhattan-real-estate-prices-reach-new-record-with-buying-frenzy-.html', 'source': 'CNBC'}, {'name': '$999,000', 'relevance': 0.413612, 'sentiment': 0, 'url': 'https://www.cnbc.com/2021/07/02/manhattan-real-estate-prices-reach-new-record-with-buying-frenzy-.html', 'source': 'CNBC'}, {'name': '12%', 'relevance': 0.399476, 'sentiment': 0.81752, 'url': 'https://www.cnbc.com/2021/07/02/manhattan-real-estate-prices-reach-new-record-with-buying-frenzy-.html', 'source': 'CNBC'}, {'name': '$1.9 million', 'relevance': 0.396186, 'sentiment': 0.5785, 'url': 'https://www.cnbc.com/2021/07/02/manhattan-real-estate-prices-reach-new-record-with-buying-frenzy-.html', 'source': 'CNBC'}, {'name': '150%', 'relevance': 0.345695, 'sentiment': -0.591859, 'url': 'https://www.cnbc.com/2021/07/02/manhattan-real-estate-prices-reach-new-record-with-buying-frenzy-.html', 'source': 'CNBC'}, {'name': '27%', 'relevance': 0.294856, 'sentiment': -0.691316, 'url': 'https://www.cnbc.com/2021/07/02/manhattan-real-estate-prices-reach-new-record-with-buying-frenzy-.html', 'source': 'CNBC'}, {'name': 'Douglas Elliman', 'relevance': 0.282539, 'sentiment': 0, 'url': 'https://www.cnbc.com/2021/07/02/manhattan-real-estate-prices-reach-new-record-with-buying-frenzy-.html', 'source': 'CNBC'}, {'name': 'Corcoran market research', 'relevance': 0.255717, 'sentiment': 0.597357, 'url': 'https://www.cnbc.com/2021/07/02/manhattan-real-estate-prices-reach-new-record-with-buying-frenzy-.html', 'source': 'CNBC'}, {'name': '35%', 'relevance': 0.252513, 'sentiment': 0.225409, 'url': 'https://www.cnbc.com/2021/07/02/manhattan-real-estate-prices-reach-new-record-with-buying-frenzy-.html', 'source': 'CNBC'}, {'name': 'CureVac', 'relevance': 0.953718, 'sentiment': 0.65287, 'url': 'https://www.cnbc.com/2021/07/01/curevac-to-plow-forward-with-covid-vaccine-despite-trial-results-.html', 'source': 'CNBC'}, {'name': '48%', 'relevance': 0.761358, 'sentiment': 0.588213, 'url': 'https://www.cnbc.com/2021/07/01/curevac-to-plow-forward-with-covid-vaccine-despite-trial-results-.html', 'source': 'CNBC'}, {'name': 'Kemula', 'relevance': 0.414123, 'sentiment': 0.417142, 'url': 'https://www.cnbc.com/2021/07/01/curevac-to-plow-forward-with-covid-vaccine-despite-trial-results-.html', 'source': 'CNBC'}, {'name': 'EMA', 'relevance': 0.41285, 'sentiment': 0.803298, 'url': 'https://www.cnbc.com/2021/07/01/curevac-to-plow-forward-with-covid-vaccine-despite-trial-results-.html', 'source': 'CNBC'}, {'name': 'Pierre Kemula', 'relevance': 0.405481, 'sentiment': 0, 'url': 'https://www.cnbc.com/2021/07/01/curevac-to-plow-forward-with-covid-vaccine-despite-trial-results-.html', 'source': 'CNBC'}, {'name': 'Europe', 'relevance': 0.284694, 'sentiment': 0.659356, 'url': 'https://www.cnbc.com/2021/07/01/curevac-to-plow-forward-with-covid-vaccine-despite-trial-results-.html', 'source': 'CNBC'}, {'name': '53%', 'relevance': 0.219263, 'sentiment': 0, 'url': 'https://www.cnbc.com/2021/07/01/curevac-to-plow-forward-with-covid-vaccine-despite-trial-results-.html', 'source': 'CNBC'}, {'name': '77%', 'relevance': 0.212388, 'sentiment': 0, 'url': 'https://www.cnbc.com/2021/07/01/curevac-to-plow-forward-with-covid-vaccine-despite-trial-results-.html', 'source': 'CNBC'}, {'name': 'CNBC', 'relevance': 0.21045, 'sentiment': 0, 'url': 'https://www.cnbc.com/2021/07/01/curevac-to-plow-forward-with-covid-vaccine-despite-trial-results-.html', 'source': 'CNBC'}, {'name': 'severe disease', 'relevance': 0.20809, 'sentiment': 0, 'url': 'https://www.cnbc.com/2021/07/01/curevac-to-plow-forward-with-covid-vaccine-despite-trial-results-.html', 'source': 'CNBC'}]\n"
          ],
          "name": "stdout"
        }
      ]
    },
    {
      "cell_type": "markdown",
      "metadata": {
        "id": "YC98gaC6EFGg"
      },
      "source": [
        "## Part 4 "
      ]
    },
    {
      "cell_type": "code",
      "metadata": {
        "id": "JOLFjggj8sZw"
      },
      "source": [
        "import pandas as pd"
      ],
      "execution_count": null,
      "outputs": []
    },
    {
      "cell_type": "code",
      "metadata": {
        "id": "ogMqgYrB8tn7",
        "colab": {
          "base_uri": "https://localhost:8080/",
          "height": 419
        },
        "outputId": "8fae7674-8800-4182-f24a-e66c1f21ea12"
      },
      "source": [
        "df = pd.DataFrame(url_wsj+url_cnbc)\n",
        "df"
      ],
      "execution_count": null,
      "outputs": [
        {
          "output_type": "execute_result",
          "data": {
            "text/html": [
              "<div>\n",
              "<style scoped>\n",
              "    .dataframe tbody tr th:only-of-type {\n",
              "        vertical-align: middle;\n",
              "    }\n",
              "\n",
              "    .dataframe tbody tr th {\n",
              "        vertical-align: top;\n",
              "    }\n",
              "\n",
              "    .dataframe thead th {\n",
              "        text-align: right;\n",
              "    }\n",
              "</style>\n",
              "<table border=\"1\" class=\"dataframe\">\n",
              "  <thead>\n",
              "    <tr style=\"text-align: right;\">\n",
              "      <th></th>\n",
              "      <th>name</th>\n",
              "      <th>relevance</th>\n",
              "      <th>sentiment</th>\n",
              "      <th>url</th>\n",
              "      <th>source</th>\n",
              "    </tr>\n",
              "  </thead>\n",
              "  <tbody>\n",
              "    <tr>\n",
              "      <th>0</th>\n",
              "      <td>Fed</td>\n",
              "      <td>0.954789</td>\n",
              "      <td>-0.323186</td>\n",
              "      <td>https://www.cnbc.com/2021/07/02/fed-chair-powe...</td>\n",
              "      <td>CNBC</td>\n",
              "    </tr>\n",
              "    <tr>\n",
              "      <th>1</th>\n",
              "      <td>Powell</td>\n",
              "      <td>0.858353</td>\n",
              "      <td>0.792678</td>\n",
              "      <td>https://www.cnbc.com/2021/07/02/fed-chair-powe...</td>\n",
              "      <td>CNBC</td>\n",
              "    </tr>\n",
              "    <tr>\n",
              "      <th>2</th>\n",
              "      <td>Armstrong</td>\n",
              "      <td>0.811567</td>\n",
              "      <td>0.792678</td>\n",
              "      <td>https://www.cnbc.com/2021/07/02/fed-chair-powe...</td>\n",
              "      <td>CNBC</td>\n",
              "    </tr>\n",
              "    <tr>\n",
              "      <th>3</th>\n",
              "      <td>Jerome Powell</td>\n",
              "      <td>0.744250</td>\n",
              "      <td>0.000000</td>\n",
              "      <td>https://www.cnbc.com/2021/07/02/fed-chair-powe...</td>\n",
              "      <td>CNBC</td>\n",
              "    </tr>\n",
              "    <tr>\n",
              "      <th>4</th>\n",
              "      <td>cryptocurrency exchange Coinbase</td>\n",
              "      <td>0.726825</td>\n",
              "      <td>0.000000</td>\n",
              "      <td>https://www.cnbc.com/2021/07/02/fed-chair-powe...</td>\n",
              "      <td>CNBC</td>\n",
              "    </tr>\n",
              "    <tr>\n",
              "      <th>...</th>\n",
              "      <td>...</td>\n",
              "      <td>...</td>\n",
              "      <td>...</td>\n",
              "      <td>...</td>\n",
              "      <td>...</td>\n",
              "    </tr>\n",
              "    <tr>\n",
              "      <th>72</th>\n",
              "      <td>Europe</td>\n",
              "      <td>0.284694</td>\n",
              "      <td>0.659356</td>\n",
              "      <td>https://www.cnbc.com/2021/07/01/curevac-to-plo...</td>\n",
              "      <td>CNBC</td>\n",
              "    </tr>\n",
              "    <tr>\n",
              "      <th>73</th>\n",
              "      <td>53%</td>\n",
              "      <td>0.219263</td>\n",
              "      <td>0.000000</td>\n",
              "      <td>https://www.cnbc.com/2021/07/01/curevac-to-plo...</td>\n",
              "      <td>CNBC</td>\n",
              "    </tr>\n",
              "    <tr>\n",
              "      <th>74</th>\n",
              "      <td>77%</td>\n",
              "      <td>0.212388</td>\n",
              "      <td>0.000000</td>\n",
              "      <td>https://www.cnbc.com/2021/07/01/curevac-to-plo...</td>\n",
              "      <td>CNBC</td>\n",
              "    </tr>\n",
              "    <tr>\n",
              "      <th>75</th>\n",
              "      <td>CNBC</td>\n",
              "      <td>0.210450</td>\n",
              "      <td>0.000000</td>\n",
              "      <td>https://www.cnbc.com/2021/07/01/curevac-to-plo...</td>\n",
              "      <td>CNBC</td>\n",
              "    </tr>\n",
              "    <tr>\n",
              "      <th>76</th>\n",
              "      <td>severe disease</td>\n",
              "      <td>0.208090</td>\n",
              "      <td>0.000000</td>\n",
              "      <td>https://www.cnbc.com/2021/07/01/curevac-to-plo...</td>\n",
              "      <td>CNBC</td>\n",
              "    </tr>\n",
              "  </tbody>\n",
              "</table>\n",
              "<p>77 rows × 5 columns</p>\n",
              "</div>"
            ],
            "text/plain": [
              "                                name  ...  source\n",
              "0                                Fed  ...    CNBC\n",
              "1                             Powell  ...    CNBC\n",
              "2                          Armstrong  ...    CNBC\n",
              "3                      Jerome Powell  ...    CNBC\n",
              "4   cryptocurrency exchange Coinbase  ...    CNBC\n",
              "..                               ...  ...     ...\n",
              "72                            Europe  ...    CNBC\n",
              "73                               53%  ...    CNBC\n",
              "74                               77%  ...    CNBC\n",
              "75                              CNBC  ...    CNBC\n",
              "76                    severe disease  ...    CNBC\n",
              "\n",
              "[77 rows x 5 columns]"
            ]
          },
          "metadata": {
            "tags": []
          },
          "execution_count": 29
        }
      ]
    },
    {
      "cell_type": "code",
      "metadata": {
        "id": "6qUUp21E83cp"
      },
      "source": [
        "import numpy as np\n",
        "\n",
        "relevance_df = pd.pivot_table(df, values = 'relevance', index = ['name'], columns=['source'], aggfunc= np.sum)"
      ],
      "execution_count": null,
      "outputs": []
    },
    {
      "cell_type": "code",
      "metadata": {
        "id": "P44NKetn89fx",
        "colab": {
          "base_uri": "https://localhost:8080/",
          "height": 450
        },
        "outputId": "22eb7aa7-00ff-4808-aa3f-24eff9170dee"
      },
      "source": [
        "relevance_df"
      ],
      "execution_count": null,
      "outputs": [
        {
          "output_type": "execute_result",
          "data": {
            "text/html": [
              "<div>\n",
              "<style scoped>\n",
              "    .dataframe tbody tr th:only-of-type {\n",
              "        vertical-align: middle;\n",
              "    }\n",
              "\n",
              "    .dataframe tbody tr th {\n",
              "        vertical-align: top;\n",
              "    }\n",
              "\n",
              "    .dataframe thead th {\n",
              "        text-align: right;\n",
              "    }\n",
              "</style>\n",
              "<table border=\"1\" class=\"dataframe\">\n",
              "  <thead>\n",
              "    <tr style=\"text-align: right;\">\n",
              "      <th>source</th>\n",
              "      <th>CNBC</th>\n",
              "    </tr>\n",
              "    <tr>\n",
              "      <th>name</th>\n",
              "      <th></th>\n",
              "    </tr>\n",
              "  </thead>\n",
              "  <tbody>\n",
              "    <tr>\n",
              "      <th>$1,400</th>\n",
              "      <td>0.952349</td>\n",
              "    </tr>\n",
              "    <tr>\n",
              "      <th>$1.9 million</th>\n",
              "      <td>0.396186</td>\n",
              "    </tr>\n",
              "    <tr>\n",
              "      <th>$112,500</th>\n",
              "      <td>0.332960</td>\n",
              "    </tr>\n",
              "    <tr>\n",
              "      <th>$120,000</th>\n",
              "      <td>0.302144</td>\n",
              "    </tr>\n",
              "    <tr>\n",
              "      <th>$150,000</th>\n",
              "      <td>0.328324</td>\n",
              "    </tr>\n",
              "    <tr>\n",
              "      <th>...</th>\n",
              "      <td>...</td>\n",
              "    </tr>\n",
              "    <tr>\n",
              "      <th>Winklevoss Bitcoin Trust</th>\n",
              "      <td>0.305851</td>\n",
              "    </tr>\n",
              "    <tr>\n",
              "      <th>autoimmune diseases</th>\n",
              "      <td>0.185336</td>\n",
              "    </tr>\n",
              "    <tr>\n",
              "      <th>cryptocurrency exchange Coinbase</th>\n",
              "      <td>0.726825</td>\n",
              "    </tr>\n",
              "    <tr>\n",
              "      <th>heart disease</th>\n",
              "      <td>0.190839</td>\n",
              "    </tr>\n",
              "    <tr>\n",
              "      <th>severe disease</th>\n",
              "      <td>0.208090</td>\n",
              "    </tr>\n",
              "  </tbody>\n",
              "</table>\n",
              "<p>75 rows × 1 columns</p>\n",
              "</div>"
            ],
            "text/plain": [
              "source                                CNBC\n",
              "name                                      \n",
              "$1,400                            0.952349\n",
              "$1.9 million                      0.396186\n",
              "$112,500                          0.332960\n",
              "$120,000                          0.302144\n",
              "$150,000                          0.328324\n",
              "...                                    ...\n",
              "Winklevoss Bitcoin Trust          0.305851\n",
              "autoimmune diseases               0.185336\n",
              "cryptocurrency exchange Coinbase  0.726825\n",
              "heart disease                     0.190839\n",
              "severe disease                    0.208090\n",
              "\n",
              "[75 rows x 1 columns]"
            ]
          },
          "metadata": {
            "tags": []
          },
          "execution_count": 31
        }
      ]
    },
    {
      "cell_type": "code",
      "metadata": {
        "id": "k2oXj9Uf9AGI",
        "colab": {
          "base_uri": "https://localhost:8080/",
          "height": 450
        },
        "outputId": "f0e8ac98-9fa9-45d2-b461-58c97caee160"
      },
      "source": [
        "sentiment_df = pd.pivot_table(df, values = 'sentiment', index = ['name'], columns=['source'], aggfunc= np.mean)\n",
        "sentiment_df"
      ],
      "execution_count": null,
      "outputs": [
        {
          "output_type": "execute_result",
          "data": {
            "text/html": [
              "<div>\n",
              "<style scoped>\n",
              "    .dataframe tbody tr th:only-of-type {\n",
              "        vertical-align: middle;\n",
              "    }\n",
              "\n",
              "    .dataframe tbody tr th {\n",
              "        vertical-align: top;\n",
              "    }\n",
              "\n",
              "    .dataframe thead th {\n",
              "        text-align: right;\n",
              "    }\n",
              "</style>\n",
              "<table border=\"1\" class=\"dataframe\">\n",
              "  <thead>\n",
              "    <tr style=\"text-align: right;\">\n",
              "      <th>source</th>\n",
              "      <th>CNBC</th>\n",
              "    </tr>\n",
              "    <tr>\n",
              "      <th>name</th>\n",
              "      <th></th>\n",
              "    </tr>\n",
              "  </thead>\n",
              "  <tbody>\n",
              "    <tr>\n",
              "      <th>$1,400</th>\n",
              "      <td>0.541864</td>\n",
              "    </tr>\n",
              "    <tr>\n",
              "      <th>$1.9 million</th>\n",
              "      <td>0.578500</td>\n",
              "    </tr>\n",
              "    <tr>\n",
              "      <th>$112,500</th>\n",
              "      <td>0.000000</td>\n",
              "    </tr>\n",
              "    <tr>\n",
              "      <th>$120,000</th>\n",
              "      <td>-0.816164</td>\n",
              "    </tr>\n",
              "    <tr>\n",
              "      <th>$150,000</th>\n",
              "      <td>0.000000</td>\n",
              "    </tr>\n",
              "    <tr>\n",
              "      <th>...</th>\n",
              "      <td>...</td>\n",
              "    </tr>\n",
              "    <tr>\n",
              "      <th>Winklevoss Bitcoin Trust</th>\n",
              "      <td>0.626151</td>\n",
              "    </tr>\n",
              "    <tr>\n",
              "      <th>autoimmune diseases</th>\n",
              "      <td>-0.862116</td>\n",
              "    </tr>\n",
              "    <tr>\n",
              "      <th>cryptocurrency exchange Coinbase</th>\n",
              "      <td>0.000000</td>\n",
              "    </tr>\n",
              "    <tr>\n",
              "      <th>heart disease</th>\n",
              "      <td>-0.916909</td>\n",
              "    </tr>\n",
              "    <tr>\n",
              "      <th>severe disease</th>\n",
              "      <td>0.000000</td>\n",
              "    </tr>\n",
              "  </tbody>\n",
              "</table>\n",
              "<p>75 rows × 1 columns</p>\n",
              "</div>"
            ],
            "text/plain": [
              "source                                CNBC\n",
              "name                                      \n",
              "$1,400                            0.541864\n",
              "$1.9 million                      0.578500\n",
              "$112,500                          0.000000\n",
              "$120,000                         -0.816164\n",
              "$150,000                          0.000000\n",
              "...                                    ...\n",
              "Winklevoss Bitcoin Trust          0.626151\n",
              "autoimmune diseases              -0.862116\n",
              "cryptocurrency exchange Coinbase  0.000000\n",
              "heart disease                    -0.916909\n",
              "severe disease                    0.000000\n",
              "\n",
              "[75 rows x 1 columns]"
            ]
          },
          "metadata": {
            "tags": []
          },
          "execution_count": 32
        }
      ]
    },
    {
      "cell_type": "code",
      "metadata": {
        "id": "vd7zJ7GT9Ld9",
        "colab": {
          "base_uri": "https://localhost:8080/",
          "height": 298
        },
        "outputId": "6d3e3f4b-9ba1-472a-b8c4-fd56947979bb"
      },
      "source": [
        "relevance_df.plot(kind ='barh', title = 'relevance')"
      ],
      "execution_count": null,
      "outputs": [
        {
          "output_type": "execute_result",
          "data": {
            "text/plain": [
              "<matplotlib.axes._subplots.AxesSubplot at 0x7f76f6209210>"
            ]
          },
          "metadata": {
            "tags": []
          },
          "execution_count": 33
        },
        {
          "output_type": "display_data",
          "data": {
            "image/png": "[encoded data removed]",
            "text/plain": [
              "<Figure size 432x288 with 1 Axes>"
            ]
          },
          "metadata": {
            "tags": [],
            "needs_background": "light"
          }
        }
      ]
    },
    {
      "cell_type": "code",
      "metadata": {
        "id": "Pl5ZFXO_9XbI",
        "colab": {
          "base_uri": "https://localhost:8080/",
          "height": 285
        },
        "outputId": "61e05e20-fc3a-4982-e49f-5201dd5531b4"
      },
      "source": [
        "sentiment_df.plot(kind = 'barh')"
      ],
      "execution_count": null,
      "outputs": [
        {
          "output_type": "execute_result",
          "data": {
            "text/plain": [
              "<matplotlib.axes._subplots.AxesSubplot at 0x7f76f5a98910>"
            ]
          },
          "metadata": {
            "tags": []
          },
          "execution_count": 34
        },
        {
          "output_type": "display_data",
          "data": {
            "image/png": "[encoded data removed]",
            "text/plain": [
              "<Figure size 432x288 with 1 Axes>"
            ]
          },
          "metadata": {
            "tags": [],
            "needs_background": "light"
          }
        }
      ]
    },
    {
      "cell_type": "code",
      "metadata": {
        "id": "H4YtKktH9bQ9",
        "colab": {
          "base_uri": "https://localhost:8080/",
          "height": 450
        },
        "outputId": "81c0a24f-7dc5-425a-b772-3e251589c4e4"
      },
      "source": [
        "relevance_df.dropna()"
      ],
      "execution_count": null,
      "outputs": [
        {
          "output_type": "execute_result",
          "data": {
            "text/html": [
              "<div>\n",
              "<style scoped>\n",
              "    .dataframe tbody tr th:only-of-type {\n",
              "        vertical-align: middle;\n",
              "    }\n",
              "\n",
              "    .dataframe tbody tr th {\n",
              "        vertical-align: top;\n",
              "    }\n",
              "\n",
              "    .dataframe thead th {\n",
              "        text-align: right;\n",
              "    }\n",
              "</style>\n",
              "<table border=\"1\" class=\"dataframe\">\n",
              "  <thead>\n",
              "    <tr style=\"text-align: right;\">\n",
              "      <th>source</th>\n",
              "      <th>CNBC</th>\n",
              "    </tr>\n",
              "    <tr>\n",
              "      <th>name</th>\n",
              "      <th></th>\n",
              "    </tr>\n",
              "  </thead>\n",
              "  <tbody>\n",
              "    <tr>\n",
              "      <th>$1,400</th>\n",
              "      <td>0.952349</td>\n",
              "    </tr>\n",
              "    <tr>\n",
              "      <th>$1.9 million</th>\n",
              "      <td>0.396186</td>\n",
              "    </tr>\n",
              "    <tr>\n",
              "      <th>$112,500</th>\n",
              "      <td>0.332960</td>\n",
              "    </tr>\n",
              "    <tr>\n",
              "      <th>$120,000</th>\n",
              "      <td>0.302144</td>\n",
              "    </tr>\n",
              "    <tr>\n",
              "      <th>$150,000</th>\n",
              "      <td>0.328324</td>\n",
              "    </tr>\n",
              "    <tr>\n",
              "      <th>...</th>\n",
              "      <td>...</td>\n",
              "    </tr>\n",
              "    <tr>\n",
              "      <th>Winklevoss Bitcoin Trust</th>\n",
              "      <td>0.305851</td>\n",
              "    </tr>\n",
              "    <tr>\n",
              "      <th>autoimmune diseases</th>\n",
              "      <td>0.185336</td>\n",
              "    </tr>\n",
              "    <tr>\n",
              "      <th>cryptocurrency exchange Coinbase</th>\n",
              "      <td>0.726825</td>\n",
              "    </tr>\n",
              "    <tr>\n",
              "      <th>heart disease</th>\n",
              "      <td>0.190839</td>\n",
              "    </tr>\n",
              "    <tr>\n",
              "      <th>severe disease</th>\n",
              "      <td>0.208090</td>\n",
              "    </tr>\n",
              "  </tbody>\n",
              "</table>\n",
              "<p>75 rows × 1 columns</p>\n",
              "</div>"
            ],
            "text/plain": [
              "source                                CNBC\n",
              "name                                      \n",
              "$1,400                            0.952349\n",
              "$1.9 million                      0.396186\n",
              "$112,500                          0.332960\n",
              "$120,000                          0.302144\n",
              "$150,000                          0.328324\n",
              "...                                    ...\n",
              "Winklevoss Bitcoin Trust          0.305851\n",
              "autoimmune diseases               0.185336\n",
              "cryptocurrency exchange Coinbase  0.726825\n",
              "heart disease                     0.190839\n",
              "severe disease                    0.208090\n",
              "\n",
              "[75 rows x 1 columns]"
            ]
          },
          "metadata": {
            "tags": []
          },
          "execution_count": 35
        }
      ]
    },
    {
      "cell_type": "code",
      "metadata": {
        "id": "CSCg51TY9dqF",
        "colab": {
          "base_uri": "https://localhost:8080/"
        },
        "outputId": "ca4e73b6-521f-4ee6-a249-e67d7eb8ac63"
      },
      "source": [
        "sentiment_df.dropna()"
      ],
      "execution_count": null,
      "outputs": [
        {
          "output_type": "execute_result",
          "data": {
            "text/html": [
              "<div>\n",
              "<style scoped>\n",
              "    .dataframe tbody tr th:only-of-type {\n",
              "        vertical-align: middle;\n",
              "    }\n",
              "\n",
              "    .dataframe tbody tr th {\n",
              "        vertical-align: top;\n",
              "    }\n",
              "\n",
              "    .dataframe thead th {\n",
              "        text-align: right;\n",
              "    }\n",
              "</style>\n",
              "<table border=\"1\" class=\"dataframe\">\n",
              "  <thead>\n",
              "    <tr style=\"text-align: right;\">\n",
              "      <th>source</th>\n",
              "      <th>CNBC</th>\n",
              "    </tr>\n",
              "    <tr>\n",
              "      <th>name</th>\n",
              "      <th></th>\n",
              "    </tr>\n",
              "  </thead>\n",
              "  <tbody>\n",
              "    <tr>\n",
              "      <th>$1,400</th>\n",
              "      <td>0.541864</td>\n",
              "    </tr>\n",
              "    <tr>\n",
              "      <th>$1.9 million</th>\n",
              "      <td>0.578500</td>\n",
              "    </tr>\n",
              "    <tr>\n",
              "      <th>$112,500</th>\n",
              "      <td>0.000000</td>\n",
              "    </tr>\n",
              "    <tr>\n",
              "      <th>$120,000</th>\n",
              "      <td>-0.816164</td>\n",
              "    </tr>\n",
              "    <tr>\n",
              "      <th>$150,000</th>\n",
              "      <td>0.000000</td>\n",
              "    </tr>\n",
              "    <tr>\n",
              "      <th>...</th>\n",
              "      <td>...</td>\n",
              "    </tr>\n",
              "    <tr>\n",
              "      <th>Winklevoss Bitcoin Trust</th>\n",
              "      <td>0.626151</td>\n",
              "    </tr>\n",
              "    <tr>\n",
              "      <th>autoimmune diseases</th>\n",
              "      <td>-0.862116</td>\n",
              "    </tr>\n",
              "    <tr>\n",
              "      <th>cryptocurrency exchange Coinbase</th>\n",
              "      <td>0.000000</td>\n",
              "    </tr>\n",
              "    <tr>\n",
              "      <th>heart disease</th>\n",
              "      <td>-0.916909</td>\n",
              "    </tr>\n",
              "    <tr>\n",
              "      <th>severe disease</th>\n",
              "      <td>0.000000</td>\n",
              "    </tr>\n",
              "  </tbody>\n",
              "</table>\n",
              "<p>75 rows × 1 columns</p>\n",
              "</div>"
            ],
            "text/plain": [
              "source                                CNBC\n",
              "name                                      \n",
              "$1,400                            0.541864\n",
              "$1.9 million                      0.578500\n",
              "$112,500                          0.000000\n",
              "$120,000                         -0.816164\n",
              "$150,000                          0.000000\n",
              "...                                    ...\n",
              "Winklevoss Bitcoin Trust          0.626151\n",
              "autoimmune diseases              -0.862116\n",
              "cryptocurrency exchange Coinbase  0.000000\n",
              "heart disease                    -0.916909\n",
              "severe disease                    0.000000\n",
              "\n",
              "[75 rows x 1 columns]"
            ]
          },
          "metadata": {
            "tags": []
          },
          "execution_count": 36
        }
      ]
    }
  ]
}